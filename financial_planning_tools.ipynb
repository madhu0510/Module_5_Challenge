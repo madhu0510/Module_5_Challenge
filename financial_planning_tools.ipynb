{
 "cells": [
  {
   "cell_type": "markdown",
   "metadata": {},
   "source": [
    "# Financial Planning with APIs and Simulations\n",
    "\n",
    "In this Challenge, you’ll create two financial analysis tools by using a single Jupyter notebook:\n",
    "\n",
    "Part 1: A financial planner for emergencies. The members will be able to use this tool to visualize their current savings. The members can then determine if they have enough reserves for an emergency fund.\n",
    "\n",
    "Part 2: A financial planner for retirement. This tool will forecast the performance of their retirement portfolio in 30 years. To do this, the tool will make an Alpaca API call via the Alpaca SDK to get historical price data for use in Monte Carlo simulations.\n",
    "\n",
    "You’ll use the information from the Monte Carlo simulation to answer questions about the portfolio in your Jupyter notebook.\n",
    "\n"
   ]
  },
  {
   "cell_type": "code",
   "execution_count": 1,
   "metadata": {},
   "outputs": [],
   "source": [
    "# Import the required libraries and dependencies\n",
    "import os\n",
    "import requests\n",
    "import json\n",
    "import pandas as pd\n",
    "from dotenv import load_dotenv\n",
    "import alpaca_trade_api as tradeapi\n",
    "from MCForecastTools import MCSimulation\n",
    "\n",
    "%matplotlib inline"
   ]
  },
  {
   "cell_type": "code",
   "execution_count": 2,
   "metadata": {},
   "outputs": [
    {
     "data": {
      "text/plain": [
       "True"
      ]
     },
     "execution_count": 2,
     "metadata": {},
     "output_type": "execute_result"
    }
   ],
   "source": [
    "# Load the environment variables from the .env file\n",
    "#by calling the load_dotenv function\n",
    "load_dotenv()"
   ]
  },
  {
   "cell_type": "markdown",
   "metadata": {},
   "source": [
    "## Part 1: Create a Financial Planner for Emergencies"
   ]
  },
  {
   "cell_type": "markdown",
   "metadata": {},
   "source": [
    "### Evaluate the Cryptocurrency Wallet by Using the Requests Library\n",
    "\n",
    "In this section, you’ll determine the current value of a member’s cryptocurrency wallet. You’ll collect the current prices for the Bitcoin and Ethereum cryptocurrencies by using the Python Requests library. For the prototype, you’ll assume that the member holds the 1.2 Bitcoins (BTC) and 5.3 Ethereum coins (ETH). To do all this, complete the following steps:\n",
    "\n",
    "1. Create a variable named `monthly_income`, and set its value to `12000`.\n",
    "\n",
    "2. Use the Requests library to get the current price (in US dollars) of Bitcoin (BTC) and Ethereum (ETH) by using the API endpoints that the starter code supplies.\n",
    "\n",
    "3. Navigate the JSON response object to access the current price of each coin, and store each in a variable.\n",
    "\n",
    "    > **Hint** Note the specific identifier for each cryptocurrency in the API JSON response. The Bitcoin identifier is `1`, and the Ethereum identifier is `1027`.\n",
    "\n",
    "4. Calculate the value, in US dollars, of the current amount of each cryptocurrency and of the entire cryptocurrency wallet.\n",
    "\n"
   ]
  },
  {
   "cell_type": "code",
   "execution_count": 3,
   "metadata": {},
   "outputs": [],
   "source": [
    "# The current number of coins for each cryptocurrency asset held in the portfolio.\n",
    "btc_coins = 1.2\n",
    "eth_coins = 5.3"
   ]
  },
  {
   "cell_type": "markdown",
   "metadata": {},
   "source": [
    "#### Step 1: Create a variable named `monthly_income`, and set its value to `12000`."
   ]
  },
  {
   "cell_type": "code",
   "execution_count": 4,
   "metadata": {},
   "outputs": [],
   "source": [
    "# The monthly amount for the member's household income\n",
    "monthly_income = 12000\n"
   ]
  },
  {
   "cell_type": "markdown",
   "metadata": {},
   "source": [
    "#### Review the endpoint URLs for the API calls to Free Crypto API in order to get the current pricing information for both BTC and ETH."
   ]
  },
  {
   "cell_type": "code",
   "execution_count": 5,
   "metadata": {},
   "outputs": [],
   "source": [
    "# The Free Crypto API Call endpoint URLs for the held cryptocurrency assets\n",
    "btc_url = \"https://api.alternative.me/v2/ticker/Bitcoin/?convert=USD\"\n",
    "eth_url = \"https://api.alternative.me/v2/ticker/Ethereum/?convert=USD\""
   ]
  },
  {
   "cell_type": "markdown",
   "metadata": {},
   "source": [
    "#### Step 2. Use the Requests library to get the current price (in US dollars) of Bitcoin (BTC) and Ethereum (ETH) by using the API endpoints that the starter code supplied."
   ]
  },
  {
   "cell_type": "code",
   "execution_count": 6,
   "metadata": {},
   "outputs": [
    {
     "name": "stdout",
     "output_type": "stream",
     "text": [
      "{\n",
      "    \"data\": {\n",
      "        \"1\": {\n",
      "            \"circulating_supply\": 18747250,\n",
      "            \"id\": 1,\n",
      "            \"last_updated\": 1625353479,\n",
      "            \"max_supply\": 21000000,\n",
      "            \"name\": \"Bitcoin\",\n",
      "            \"quotes\": {\n",
      "                \"USD\": {\n",
      "                    \"market_cap\": 648715391310,\n",
      "                    \"percent_change_1h\": -0.322310983125454,\n",
      "                    \"percent_change_24h\": 2.43578239160051,\n",
      "                    \"percent_change_7d\": 8.35019946893334,\n",
      "                    \"percentage_change_1h\": -0.322310983125454,\n",
      "                    \"percentage_change_24h\": 2.43578239160051,\n",
      "                    \"percentage_change_7d\": 8.35019946893334,\n",
      "                    \"price\": 34610.0,\n",
      "                    \"volume_24h\": 23085236982\n",
      "                }\n",
      "            },\n",
      "            \"rank\": 1,\n",
      "            \"symbol\": \"BTC\",\n",
      "            \"total_supply\": 18747250,\n",
      "            \"website_slug\": \"bitcoin\"\n",
      "        }\n",
      "    },\n",
      "    \"metadata\": {\n",
      "        \"error\": null,\n",
      "        \"num_cryptocurrencies\": 1279,\n",
      "        \"timestamp\": 1625353479\n",
      "    }\n",
      "}\n"
     ]
    }
   ],
   "source": [
    "# Using the Python requests library, make an API call to access the current price of BTC\n",
    "btc_response = requests.get(btc_url).json()\n",
    "\n",
    "# Use the json.dumps function to review the response data from the API call\n",
    "# Use the indent and sort_keys parameters to make the response object readable\n",
    "print(json.dumps(btc_response,indent=4,sort_keys=True))\n"
   ]
  },
  {
   "cell_type": "code",
   "execution_count": 7,
   "metadata": {},
   "outputs": [
    {
     "name": "stdout",
     "output_type": "stream",
     "text": [
      "{\n",
      "    \"data\": {\n",
      "        \"1027\": {\n",
      "            \"circulating_supply\": 116547704,\n",
      "            \"id\": 1027,\n",
      "            \"last_updated\": 1625353473,\n",
      "            \"max_supply\": 0,\n",
      "            \"name\": \"Ethereum\",\n",
      "            \"quotes\": {\n",
      "                \"USD\": {\n",
      "                    \"market_cap\": 257726263622,\n",
      "                    \"percent_change_1h\": -0.214269146175396,\n",
      "                    \"percent_change_24h\": 2.93870269265178,\n",
      "                    \"percent_change_7d\": 20.5917620421948,\n",
      "                    \"percentage_change_1h\": -0.214269146175396,\n",
      "                    \"percentage_change_24h\": 2.93870269265178,\n",
      "                    \"percentage_change_7d\": 20.5917620421948,\n",
      "                    \"price\": 2211.01,\n",
      "                    \"volume_24h\": 19952333157\n",
      "                }\n",
      "            },\n",
      "            \"rank\": 2,\n",
      "            \"symbol\": \"ETH\",\n",
      "            \"total_supply\": 116547704,\n",
      "            \"website_slug\": \"ethereum\"\n",
      "        }\n",
      "    },\n",
      "    \"metadata\": {\n",
      "        \"error\": null,\n",
      "        \"num_cryptocurrencies\": 1279,\n",
      "        \"timestamp\": 1625353473\n",
      "    }\n",
      "}\n"
     ]
    }
   ],
   "source": [
    "# Using the Python requests library, make an API call to access the current price ETH\n",
    "eth_response = requests.get(eth_url).json()\n",
    "\n",
    "# Use the json.dumps function to review the response data from the API call\n",
    "# Use the indent and sort_keys parameters to make the response object readable\n",
    "print(json.dumps(eth_response,indent=4,sort_keys=True))\n"
   ]
  },
  {
   "cell_type": "markdown",
   "metadata": {},
   "source": [
    "#### Step 3: Navigate the JSON response object to access the current price of each coin, and store each in a variable."
   ]
  },
  {
   "cell_type": "code",
   "execution_count": 8,
   "metadata": {},
   "outputs": [
    {
     "name": "stdout",
     "output_type": "stream",
     "text": [
      "The current price of BTC is $34610.0\n"
     ]
    }
   ],
   "source": [
    "# Navigate the BTC response object to access the current price of BTC\n",
    "btc_price = btc_response['data']['1']['quotes']['USD']['price']\n",
    "\n",
    "# Print the current price of BTC\n",
    "print(f\"The current price of BTC is ${btc_price}\")\n"
   ]
  },
  {
   "cell_type": "code",
   "execution_count": 9,
   "metadata": {},
   "outputs": [
    {
     "name": "stdout",
     "output_type": "stream",
     "text": [
      "The current price of ETCH is $2211.01\n"
     ]
    }
   ],
   "source": [
    "# Navigate the BTC response object to access the current price of ETH\n",
    "eth_price = eth_response['data']['1027']['quotes']['USD']['price']\n",
    "\n",
    "# Print the current price of ETH\n",
    "print(f\"The current price of ETCH is ${eth_price}\")\n"
   ]
  },
  {
   "cell_type": "markdown",
   "metadata": {},
   "source": [
    "### Step 4: Calculate the value, in US dollars, of the current amount of each cryptocurrency and of the entire cryptocurrency wallet."
   ]
  },
  {
   "cell_type": "code",
   "execution_count": 10,
   "metadata": {},
   "outputs": [
    {
     "name": "stdout",
     "output_type": "stream",
     "text": [
      "The current value of BTC holding is $41532.0\n"
     ]
    }
   ],
   "source": [
    "# Compute the current value of the BTC holding \n",
    "btc_value = btc_coins * btc_price\n",
    "\n",
    "# Print current value of your holding in BTC\n",
    "print(f\"The current value of BTC holding is ${btc_value}\")\n"
   ]
  },
  {
   "cell_type": "code",
   "execution_count": 11,
   "metadata": {},
   "outputs": [
    {
     "name": "stdout",
     "output_type": "stream",
     "text": [
      "The current value of ETH holiding is $11718.353000000001\n"
     ]
    }
   ],
   "source": [
    "# Compute the current value of the ETH holding \n",
    "eth_value = eth_coins * eth_price\n",
    "\n",
    "# Print current value of your holding in ETH\n",
    "print(f\"The current value of ETH holiding is ${eth_value}\")\n"
   ]
  },
  {
   "cell_type": "code",
   "execution_count": 12,
   "metadata": {},
   "outputs": [
    {
     "name": "stdout",
     "output_type": "stream",
     "text": [
      "The current cryptocurrency wallet balance is $53250.353\n"
     ]
    }
   ],
   "source": [
    "# Compute the total value of the cryptocurrency wallet\n",
    "# Add the value of the BTC holding to the value of the ETH holding\n",
    "total_crypto_wallet = btc_value + eth_value\n",
    "\n",
    "# Print current cryptocurrency wallet balance\n",
    "print(f\"The current cryptocurrency wallet balance is ${total_crypto_wallet}\")\n"
   ]
  },
  {
   "cell_type": "markdown",
   "metadata": {},
   "source": [
    "### Evaluate the Stock and Bond Holdings by Using the Alpaca SDK\n",
    "\n",
    "In this section, you’ll determine the current value of a member’s stock and bond holdings. You’ll make an API call to Alpaca via the Alpaca SDK to get the current closing prices of the SPDR S&P 500 ETF Trust (ticker: SPY) and of the iShares Core US Aggregate Bond ETF (ticker: AGG). For the prototype, assume that the member holds 110 shares of SPY, which represents the stock portion of their portfolio, and 200 shares of AGG, which represents the bond portion. To do all this, complete the following steps:\n",
    "\n",
    "1. In the `Starter_Code` folder, create an environment file (`.env`) to store the values of your Alpaca API key and Alpaca secret key.\n",
    "\n",
    "2. Set the variables for the Alpaca API and secret keys. Using the Alpaca SDK, create the Alpaca `tradeapi.REST` object. In this object, include the parameters for the Alpaca API key, the secret key, and the version number.\n",
    "\n",
    "3. Set the following parameters for the Alpaca API call:\n",
    "\n",
    "    - `tickers`: Use the tickers for the member’s stock and bond holdings.\n",
    "\n",
    "    - `timeframe`: Use a time frame of one day.\n",
    "\n",
    "    - `start_date` and `end_date`: Use the same date for these parameters, and format them with the date of the previous weekday (or `2020-08-07`). This is because you want the one closing price for the most-recent trading day.\n",
    "\n",
    "4. Get the current closing prices for `SPY` and `AGG` by using the Alpaca `get_barset` function. Format the response as a Pandas DataFrame by including the `df` property at the end of the `get_barset` function.\n",
    "\n",
    "5. Navigating the Alpaca response DataFrame, select the `SPY` and `AGG` closing prices, and store them as variables.\n",
    "\n",
    "6. Calculate the value, in US dollars, of the current amount of shares in each of the stock and bond portions of the portfolio, and print the results.\n"
   ]
  },
  {
   "cell_type": "markdown",
   "metadata": {},
   "source": [
    "#### Review the total number of shares held in both (SPY) and (AGG)."
   ]
  },
  {
   "cell_type": "code",
   "execution_count": 13,
   "metadata": {},
   "outputs": [],
   "source": [
    "# Current amount of shares held in both the stock (SPY) and bond (AGG) portion of the portfolio.\n",
    "spy_shares = 110\n",
    "agg_shares = 200\n"
   ]
  },
  {
   "cell_type": "markdown",
   "metadata": {},
   "source": [
    "#### Step 1: In the `Starter_Code` folder, create an environment file (`.env`) to store the values of your Alpaca API key and Alpaca secret key."
   ]
  },
  {
   "cell_type": "markdown",
   "metadata": {},
   "source": [
    "#### Step 2: Set the variables for the Alpaca API and secret keys. Using the Alpaca SDK, create the Alpaca `tradeapi.REST` object. In this object, include the parameters for the Alpaca API key, the secret key, and the version number."
   ]
  },
  {
   "cell_type": "code",
   "execution_count": 14,
   "metadata": {},
   "outputs": [],
   "source": [
    "# Set the variables for the Alpaca API and secret keys\n",
    "alpaca_api_key = os.getenv('ALPACA_API_KEY')\n",
    "alpaca_secret_key = os.getenv('ALPACA_SECRET_KEY')\n",
    "\n",
    "# Create the Alpaca tradeapi.REST object\n",
    "alpaca = tradeapi.REST(alpaca_api_key,alpaca_secret_key,api_version=\"v2\")\n"
   ]
  },
  {
   "cell_type": "markdown",
   "metadata": {},
   "source": [
    "#### Step 3: Set the following parameters for the Alpaca API call:\n",
    "\n",
    "- `tickers`: Use the tickers for the member’s stock and bond holdings.\n",
    "\n",
    "- `timeframe`: Use a time frame of one day.\n",
    "\n",
    "- `start_date` and `end_date`: Use the same date for these parameters, and format them with the date of the previous weekday (or `2020-08-07`). This is because you want the one closing price for the most-recent trading day.\n"
   ]
  },
  {
   "cell_type": "code",
   "execution_count": 15,
   "metadata": {},
   "outputs": [],
   "source": [
    "# Set the tickers for both the bond and stock portion of the portfolio\n",
    "tickers = [\"SPY\",\"AGG\"]\n",
    "\n",
    "# Set timeframe to 1D \n",
    "timeframe = \"1D\"\n",
    "\n",
    "# Format current date as ISO format\n",
    "# Set both the start and end date at the date of your prior weekday \n",
    "# This will give you the closing price of the previous trading day\n",
    "# Alternatively you can use a start and end date of 2020-08-07\n",
    "start_date = pd.Timestamp(\"2020-08-07\",tz=\"America/New_York\").isoformat()\n",
    "end_date = pd.Timestamp(\"2020-08-07\",tz=\"America/New_York\").isoformat()"
   ]
  },
  {
   "cell_type": "markdown",
   "metadata": {},
   "source": [
    "#### Step 4: Get the current closing prices for `SPY` and `AGG` by using the Alpaca `get_barset` function. Format the response as a Pandas DataFrame by including the `df` property at the end of the `get_barset` function."
   ]
  },
  {
   "cell_type": "code",
   "execution_count": 16,
   "metadata": {},
   "outputs": [
    {
     "data": {
      "text/html": [
       "<div>\n",
       "<style scoped>\n",
       "    .dataframe tbody tr th:only-of-type {\n",
       "        vertical-align: middle;\n",
       "    }\n",
       "\n",
       "    .dataframe tbody tr th {\n",
       "        vertical-align: top;\n",
       "    }\n",
       "\n",
       "    .dataframe thead tr th {\n",
       "        text-align: left;\n",
       "    }\n",
       "\n",
       "    .dataframe thead tr:last-of-type th {\n",
       "        text-align: right;\n",
       "    }\n",
       "</style>\n",
       "<table border=\"1\" class=\"dataframe\">\n",
       "  <thead>\n",
       "    <tr>\n",
       "      <th></th>\n",
       "      <th colspan=\"5\" halign=\"left\">AGG</th>\n",
       "      <th colspan=\"5\" halign=\"left\">SPY</th>\n",
       "    </tr>\n",
       "    <tr>\n",
       "      <th></th>\n",
       "      <th>open</th>\n",
       "      <th>high</th>\n",
       "      <th>low</th>\n",
       "      <th>close</th>\n",
       "      <th>volume</th>\n",
       "      <th>open</th>\n",
       "      <th>high</th>\n",
       "      <th>low</th>\n",
       "      <th>close</th>\n",
       "      <th>volume</th>\n",
       "    </tr>\n",
       "    <tr>\n",
       "      <th>time</th>\n",
       "      <th></th>\n",
       "      <th></th>\n",
       "      <th></th>\n",
       "      <th></th>\n",
       "      <th></th>\n",
       "      <th></th>\n",
       "      <th></th>\n",
       "      <th></th>\n",
       "      <th></th>\n",
       "      <th></th>\n",
       "    </tr>\n",
       "  </thead>\n",
       "  <tbody>\n",
       "    <tr>\n",
       "      <th>2020-08-07 00:00:00-04:00</th>\n",
       "      <td>119.66</td>\n",
       "      <td>119.73</td>\n",
       "      <td>119.395</td>\n",
       "      <td>119.445</td>\n",
       "      <td>8830420</td>\n",
       "      <td>333.28</td>\n",
       "      <td>334.88</td>\n",
       "      <td>332.3</td>\n",
       "      <td>334.55</td>\n",
       "      <td>98710236</td>\n",
       "    </tr>\n",
       "  </tbody>\n",
       "</table>\n",
       "</div>"
      ],
      "text/plain": [
       "                              AGG                                        SPY  \\\n",
       "                             open    high      low    close   volume    open   \n",
       "time                                                                           \n",
       "2020-08-07 00:00:00-04:00  119.66  119.73  119.395  119.445  8830420  333.28   \n",
       "\n",
       "                                                            \n",
       "                             high    low   close    volume  \n",
       "time                                                        \n",
       "2020-08-07 00:00:00-04:00  334.88  332.3  334.55  98710236  "
      ]
     },
     "execution_count": 16,
     "metadata": {},
     "output_type": "execute_result"
    }
   ],
   "source": [
    "# Use the Alpaca get_barset function to get current closing prices the portfolio\n",
    "# Be sure to set the `df` property after the function to format the response object as a DataFrame\n",
    "df_closing_prices = alpaca.get_barset(\n",
    "    tickers,\n",
    "    timeframe,\n",
    "    start = start_date,\n",
    "    end = end_date   \n",
    ").df\n",
    "\n",
    "# Review the first 5 rows of the Alpaca DataFrame\n",
    "df_closing_prices.head()\n"
   ]
  },
  {
   "cell_type": "markdown",
   "metadata": {},
   "source": [
    "#### Step 5: Navigating the Alpaca response DataFrame, select the `SPY` and `AGG` closing prices, and store them as variables."
   ]
  },
  {
   "cell_type": "code",
   "execution_count": 17,
   "metadata": {},
   "outputs": [
    {
     "data": {
      "text/plain": [
       "119.445"
      ]
     },
     "execution_count": 17,
     "metadata": {},
     "output_type": "execute_result"
    }
   ],
   "source": [
    "# Access the closing price for AGG from the Alpaca DataFrame\n",
    "# Converting the value to a floating point number\n",
    "agg_close_price = float(df_closing_prices[\"AGG\"][\"close\"])\n",
    "\n",
    "# Print the AGG closing price\n",
    "agg_close_price\n"
   ]
  },
  {
   "cell_type": "code",
   "execution_count": 18,
   "metadata": {},
   "outputs": [
    {
     "data": {
      "text/plain": [
       "334.55"
      ]
     },
     "execution_count": 18,
     "metadata": {},
     "output_type": "execute_result"
    }
   ],
   "source": [
    "# Access the closing price for SPY from the Alpaca DataFrame\n",
    "# Converting the value to a floating point number\n",
    "spy_close_price = float(df_closing_prices[\"SPY\"][\"close\"])\n",
    "\n",
    "# Print the SPY closing price\n",
    "spy_close_price\n"
   ]
  },
  {
   "cell_type": "markdown",
   "metadata": {},
   "source": [
    "#### Step 6: Calculate the value, in US dollars, of the current amount of shares in each of the stock and bond portions of the portfolio, and print the results."
   ]
  },
  {
   "cell_type": "code",
   "execution_count": 19,
   "metadata": {},
   "outputs": [
    {
     "name": "stdout",
     "output_type": "stream",
     "text": [
      "The current value of AGG shares is $23889.00\n"
     ]
    }
   ],
   "source": [
    "# Calculate the current value of the bond portion of the portfolio\n",
    "agg_value = agg_shares * agg_close_price\n",
    "\n",
    "# Print the current value of the bond portfolio\n",
    "print(f\"The current value of AGG shares is ${agg_value:0.2f}\")\n"
   ]
  },
  {
   "cell_type": "code",
   "execution_count": 20,
   "metadata": {},
   "outputs": [
    {
     "name": "stdout",
     "output_type": "stream",
     "text": [
      "The current value of SPY is $36800.50\n"
     ]
    }
   ],
   "source": [
    "# Calculate the current value of the stock portion of the portfolio\n",
    "spy_value = spy_shares * spy_close_price\n",
    "\n",
    "# Print the current value of the stock portfolio\n",
    "print(f\"The current value of SPY is ${spy_value:0.2f}\")\n"
   ]
  },
  {
   "cell_type": "code",
   "execution_count": 21,
   "metadata": {},
   "outputs": [
    {
     "name": "stdout",
     "output_type": "stream",
     "text": [
      "The current balance of the portfolio is $60689.5\n"
     ]
    }
   ],
   "source": [
    "# Calculate the total value of the stock and bond portion of the portfolio\n",
    "total_stocks_bonds = agg_value + spy_value\n",
    "\n",
    "# Print the current balance of the stock and bond portion of the portfolio\n",
    "print(f\"The current balance of the portfolio is ${total_stocks_bonds}\")\n"
   ]
  },
  {
   "cell_type": "code",
   "execution_count": 22,
   "metadata": {},
   "outputs": [
    {
     "name": "stdout",
     "output_type": "stream",
     "text": [
      "The current cryptocurrency wallet balance is $113939.85\n"
     ]
    }
   ],
   "source": [
    "# Calculate the total value of the member's entire savings portfolio\n",
    "# Add the value of the cryptocurrency walled to the value of the total stocks and bonds\n",
    "total_portfolio = total_crypto_wallet + total_stocks_bonds\n",
    "\n",
    "# Print current cryptocurrency wallet balance\n",
    "print(f\"The current cryptocurrency wallet balance is ${total_portfolio:0.2f}\")\n"
   ]
  },
  {
   "cell_type": "markdown",
   "metadata": {},
   "source": [
    "### Evaluate the Emergency Fund\n",
    "\n",
    "In this section, you’ll use the valuations for the cryptocurrency wallet and for the stock and bond portions of the portfolio to determine if the credit union member has enough savings to build an emergency fund into their financial plan. To do this, complete the following steps:\n",
    "\n",
    "1. Create a Python list named `savings_data` that has two elements. The first element contains the total value of the cryptocurrency wallet. The second element contains the total value of the stock and bond portions of the portfolio.\n",
    "\n",
    "2. Use the `savings_data` list to create a Pandas DataFrame named `savings_df`, and then display this DataFrame. The function to create the DataFrame should take the following three parameters:\n",
    "\n",
    "    - `savings_data`: Use the list that you just created.\n",
    "\n",
    "    - `columns`: Set this parameter equal to a Python list with a single value called `amount`.\n",
    "\n",
    "    - `index`: Set this parameter equal to a Python list with the values of `crypto` and `stock/bond`.\n",
    "\n",
    "3. Use the `savings_df` DataFrame to plot a pie chart that visualizes the composition of the member’s portfolio. The y-axis of the pie chart uses `amount`. Be sure to add a title.\n",
    "\n",
    "4. Using Python, determine if the current portfolio has enough to create an emergency fund as part of the member’s financial plan. Ideally, an emergency fund should equal to three times the member’s monthly income. To do this, implement the following steps:\n",
    "\n",
    "    1. Create a variable named `emergency_fund_value`, and set it equal to three times the value of the member’s `monthly_income` of $12000. (You set this earlier in Part 1).\n",
    "\n",
    "    2. Create a series of three if statements to determine if the member’s total portfolio is large enough to fund the emergency portfolio:\n",
    "\n",
    "        1. If the total portfolio value is greater than the emergency fund value, display a message congratulating the member for having enough money in this fund.\n",
    "\n",
    "        2. Else if the total portfolio value is equal to the emergency fund value, display a message congratulating the member on reaching this important financial goal.\n",
    "\n",
    "        3. Else the total portfolio is less than the emergency fund value, so display a message showing how many dollars away the member is from reaching the goal. (Subtract the total portfolio value from the emergency fund value.)\n"
   ]
  },
  {
   "cell_type": "markdown",
   "metadata": {},
   "source": [
    "#### Step 1: Create a Python list named `savings_data` that has two elements. The first element contains the total value of the cryptocurrency wallet. The second element contains the total value of the stock and bond portions of the portfolio."
   ]
  },
  {
   "cell_type": "code",
   "execution_count": 23,
   "metadata": {},
   "outputs": [
    {
     "data": {
      "text/plain": [
       "[53250.353, 60689.5]"
      ]
     },
     "execution_count": 23,
     "metadata": {},
     "output_type": "execute_result"
    }
   ],
   "source": [
    "# Consolidate financial assets data into a Python list\n",
    "savings_data = [total_crypto_wallet,total_stocks_bonds]\n",
    "\n",
    "# Review the Python list savings_data\n",
    "savings_data\n",
    "    "
   ]
  },
  {
   "cell_type": "markdown",
   "metadata": {},
   "source": [
    "#### Step 2: Use the `savings_data` list to create a Pandas DataFrame named `savings_df`, and then display this DataFrame. The function to create the DataFrame should take the following three parameters:\n",
    "\n",
    "- `savings_data`: Use the list that you just created.\n",
    "\n",
    "- `columns`: Set this parameter equal to a Python list with a single value called `amount`.\n",
    "\n",
    "- `index`: Set this parameter equal to a Python list with the values of `crypto` and `stock/bond`.\n"
   ]
  },
  {
   "cell_type": "code",
   "execution_count": 24,
   "metadata": {},
   "outputs": [
    {
     "data": {
      "text/html": [
       "<div>\n",
       "<style scoped>\n",
       "    .dataframe tbody tr th:only-of-type {\n",
       "        vertical-align: middle;\n",
       "    }\n",
       "\n",
       "    .dataframe tbody tr th {\n",
       "        vertical-align: top;\n",
       "    }\n",
       "\n",
       "    .dataframe thead th {\n",
       "        text-align: right;\n",
       "    }\n",
       "</style>\n",
       "<table border=\"1\" class=\"dataframe\">\n",
       "  <thead>\n",
       "    <tr style=\"text-align: right;\">\n",
       "      <th></th>\n",
       "      <th>Amount</th>\n",
       "    </tr>\n",
       "  </thead>\n",
       "  <tbody>\n",
       "    <tr>\n",
       "      <th>Crypto</th>\n",
       "      <td>53250.353</td>\n",
       "    </tr>\n",
       "    <tr>\n",
       "      <th>Stock/bond</th>\n",
       "      <td>60689.500</td>\n",
       "    </tr>\n",
       "  </tbody>\n",
       "</table>\n",
       "</div>"
      ],
      "text/plain": [
       "               Amount\n",
       "Crypto      53250.353\n",
       "Stock/bond  60689.500"
      ]
     },
     "execution_count": 24,
     "metadata": {},
     "output_type": "execute_result"
    }
   ],
   "source": [
    "# Create a Pandas DataFrame called savings_df \n",
    "savings_df = pd.DataFrame(savings_data,columns=[\"Amount\"],index=['Crypto','Stock/bond'])\n",
    "\n",
    "# Display the savings_df DataFrame\n",
    "savings_df\n"
   ]
  },
  {
   "cell_type": "markdown",
   "metadata": {},
   "source": [
    "#### Step 3: Use the `savings_df` DataFrame to plot a pie chart that visualizes the composition of the member’s portfolio. The y-axis of the pie chart uses `amount`. Be sure to add a title."
   ]
  },
  {
   "cell_type": "code",
   "execution_count": 25,
   "metadata": {},
   "outputs": [
    {
     "data": {
      "text/plain": [
       "<AxesSubplot:title={'center':'Composition of portfolio (crypto and stock/bond) '}, ylabel='Amount'>"
      ]
     },
     "execution_count": 25,
     "metadata": {},
     "output_type": "execute_result"
    },
    {
     "data": {
      "image/png": "[encoded data removed]",
      "text/plain": [
       "<Figure size 432x288 with 1 Axes>"
      ]
     },
     "metadata": {},
     "output_type": "display_data"
    }
   ],
   "source": [
    "# Plot the total value of the member's portfolio (crypto and stock/bond) in a pie chart\n",
    "savings_df.plot.pie(y='Amount', title = 'Composition of portfolio (crypto and stock/bond) ')\n"
   ]
  },
  {
   "cell_type": "markdown",
   "metadata": {},
   "source": [
    "#### Step 4: Using Python, determine if the current portfolio has enough to create an emergency fund as part of the member’s financial plan. Ideally, an emergency fund should equal to three times the member’s monthly income. To do this, implement the following steps:\n",
    "\n",
    "Step 1. Create a variable named `emergency_fund_value`, and set it equal to three times the value of the member’s `monthly_income` of 12000. (You set this earlier in Part 1).\n",
    "\n",
    "Step 2. Create a series of three if statements to determine if the member’s total portfolio is large enough to fund the emergency portfolio:\n",
    "\n",
    "* If the total portfolio value is greater than the emergency fund value, display a message congratulating the member for having enough money in this fund.\n",
    "\n",
    "* Else if the total portfolio value is equal to the emergency fund value, display a message congratulating the member on reaching this important financial goal.\n",
    "\n",
    "* Else the total portfolio is less than the emergency fund value, so display a message showing how many dollars away the member is from reaching the goal. (Subtract the total portfolio value from the emergency fund value.)\n"
   ]
  },
  {
   "cell_type": "markdown",
   "metadata": {},
   "source": [
    "##### Step 4-1: Create a variable named `emergency_fund_value`, and set it equal to three times the value of the member’s `monthly_income` of 12000. (You set this earlier in Part 1)."
   ]
  },
  {
   "cell_type": "code",
   "execution_count": 26,
   "metadata": {},
   "outputs": [],
   "source": [
    "# Create a variable named emergency_fund_value\n",
    "emergency_fund_value = monthly_income * 3\n"
   ]
  },
  {
   "cell_type": "markdown",
   "metadata": {},
   "source": [
    "##### Step 4-2: Create a series of three if statements to determine if the member’s total portfolio is large enough to fund the emergency portfolio:\n",
    "\n",
    "* If the total portfolio value is greater than the emergency fund value, display a message congratulating the member for having enough money in this fund.\n",
    "\n",
    "* Else if the total portfolio value is equal to the emergency fund value, display a message congratulating the member on reaching this important financial goal.\n",
    "\n",
    "* Else the total portfolio is less than the emergency fund value, so display a message showing how many dollars away the member is from reaching the goal. (Subtract the total portfolio value from the emergency fund value.)"
   ]
  },
  {
   "cell_type": "code",
   "execution_count": 27,
   "metadata": {},
   "outputs": [
    {
     "name": "stdout",
     "output_type": "stream",
     "text": [
      "Congratulations !! You have enough money in your funds\n"
     ]
    }
   ],
   "source": [
    "# Evaluate the possibility of creating an emergency fund with 3 conditions:\n",
    "if total_portfolio > emergency_fund_value:\n",
    "    print('Congratulations !! You have enough money in your funds')\n",
    "elif total_portfolio == emergency_fund_value:\n",
    "    print('Congratulations !! You have reached your financial goals')\n",
    "elif total_portfolio < emergency_fund_value:\n",
    "    print(f'You are still ${emergency_fund_value - total_portfolio} amount short of reaching your target')"
   ]
  },
  {
   "cell_type": "markdown",
   "metadata": {},
   "source": [
    "## Part 2: Create a Financial Planner for Retirement"
   ]
  },
  {
   "cell_type": "markdown",
   "metadata": {},
   "source": [
    "### Create the Monte Carlo Simulation\n",
    "\n",
    "In this section, you’ll use the MCForecastTools library to create a Monte Carlo simulation for the member’s savings portfolio. To do this, complete the following steps:\n",
    "\n",
    "1. Make an API call via the Alpaca SDK to get 10 years of historical closing prices for a traditional 60/40 portfolio split: 60% stocks (SPY) and 40% bonds (AGG).\n",
    "\n",
    "2. Run a Monte Carlo simulation of 500 samples and 30 years for the 60/40 portfolio, and then plot the results.The following image shows the overlay line plot resulting from a simulation with these characteristics. However, because a random number generator is used to run each live Monte Carlo simulation, your image will differ slightly from this exact image:\n",
    "\n",
    "![A screenshot depicts the resulting plot.](Images/5-4-monte-carlo-line-plot.png)\n",
    "\n",
    "3. Plot the probability distribution of the Monte Carlo simulation. Plot the probability distribution of the Monte Carlo simulation. The following image shows the histogram plot resulting from a simulation with these characteristics. However, because a random number generator is used to run each live Monte Carlo simulation, your image will differ slightly from this exact image:\n",
    "\n",
    "![A screenshot depicts the histogram plot.](Images/5-4-monte-carlo-histogram.png)\n",
    "\n",
    "4. Generate the summary statistics for the Monte Carlo simulation.\n",
    "\n"
   ]
  },
  {
   "cell_type": "markdown",
   "metadata": {},
   "source": [
    "#### Step 1: Make an API call via the Alpaca SDK to get 10 years of historical closing prices for a traditional 60/40 portfolio split: 60% stocks (SPY) and 40% bonds (AGG)."
   ]
  },
  {
   "cell_type": "code",
   "execution_count": 28,
   "metadata": {},
   "outputs": [],
   "source": [
    "# Set start and end dates of 10 years back from your current date\n",
    "# Alternatively, you can use an end date of 2020-08-07 and work 10 years back from that date \n",
    "start_date = pd.Timestamp(\"2010-08-07\",tz=\"America/New_York\")\n",
    "end_date = pd.Timestamp(\"2020-08-07\",tz=\"America/New_York\")"
   ]
  },
  {
   "cell_type": "code",
   "execution_count": 29,
   "metadata": {},
   "outputs": [
    {
     "data": {
      "text/html": [
       "<div>\n",
       "<style scoped>\n",
       "    .dataframe tbody tr th:only-of-type {\n",
       "        vertical-align: middle;\n",
       "    }\n",
       "\n",
       "    .dataframe tbody tr th {\n",
       "        vertical-align: top;\n",
       "    }\n",
       "\n",
       "    .dataframe thead tr th {\n",
       "        text-align: left;\n",
       "    }\n",
       "\n",
       "    .dataframe thead tr:last-of-type th {\n",
       "        text-align: right;\n",
       "    }\n",
       "</style>\n",
       "<table border=\"1\" class=\"dataframe\">\n",
       "  <thead>\n",
       "    <tr>\n",
       "      <th></th>\n",
       "      <th colspan=\"5\" halign=\"left\">AGG</th>\n",
       "      <th colspan=\"5\" halign=\"left\">SPY</th>\n",
       "    </tr>\n",
       "    <tr>\n",
       "      <th></th>\n",
       "      <th>open</th>\n",
       "      <th>high</th>\n",
       "      <th>low</th>\n",
       "      <th>close</th>\n",
       "      <th>volume</th>\n",
       "      <th>open</th>\n",
       "      <th>high</th>\n",
       "      <th>low</th>\n",
       "      <th>close</th>\n",
       "      <th>volume</th>\n",
       "    </tr>\n",
       "    <tr>\n",
       "      <th>time</th>\n",
       "      <th></th>\n",
       "      <th></th>\n",
       "      <th></th>\n",
       "      <th></th>\n",
       "      <th></th>\n",
       "      <th></th>\n",
       "      <th></th>\n",
       "      <th></th>\n",
       "      <th></th>\n",
       "      <th></th>\n",
       "    </tr>\n",
       "  </thead>\n",
       "  <tbody>\n",
       "    <tr>\n",
       "      <th>2021-02-10 00:00:00-05:00</th>\n",
       "      <td>116.97</td>\n",
       "      <td>117.01</td>\n",
       "      <td>116.9200</td>\n",
       "      <td>117.00</td>\n",
       "      <td>3448438</td>\n",
       "      <td>392.12</td>\n",
       "      <td>392.28</td>\n",
       "      <td>387.50</td>\n",
       "      <td>390.10</td>\n",
       "      <td>53797977</td>\n",
       "    </tr>\n",
       "    <tr>\n",
       "      <th>2021-02-11 00:00:00-05:00</th>\n",
       "      <td>117.03</td>\n",
       "      <td>117.03</td>\n",
       "      <td>116.8000</td>\n",
       "      <td>116.87</td>\n",
       "      <td>3375374</td>\n",
       "      <td>391.24</td>\n",
       "      <td>391.69</td>\n",
       "      <td>388.10</td>\n",
       "      <td>390.73</td>\n",
       "      <td>38939025</td>\n",
       "    </tr>\n",
       "    <tr>\n",
       "      <th>2021-02-12 00:00:00-05:00</th>\n",
       "      <td>116.67</td>\n",
       "      <td>116.74</td>\n",
       "      <td>116.5418</td>\n",
       "      <td>116.58</td>\n",
       "      <td>3209765</td>\n",
       "      <td>389.85</td>\n",
       "      <td>392.90</td>\n",
       "      <td>389.77</td>\n",
       "      <td>392.69</td>\n",
       "      <td>39697380</td>\n",
       "    </tr>\n",
       "    <tr>\n",
       "      <th>2021-02-16 00:00:00-05:00</th>\n",
       "      <td>116.22</td>\n",
       "      <td>116.23</td>\n",
       "      <td>116.0200</td>\n",
       "      <td>116.03</td>\n",
       "      <td>5543350</td>\n",
       "      <td>393.96</td>\n",
       "      <td>394.17</td>\n",
       "      <td>391.53</td>\n",
       "      <td>392.34</td>\n",
       "      <td>43206214</td>\n",
       "    </tr>\n",
       "    <tr>\n",
       "      <th>2021-02-17 00:00:00-05:00</th>\n",
       "      <td>116.22</td>\n",
       "      <td>116.29</td>\n",
       "      <td>116.1450</td>\n",
       "      <td>116.28</td>\n",
       "      <td>6038386</td>\n",
       "      <td>390.42</td>\n",
       "      <td>392.66</td>\n",
       "      <td>389.33</td>\n",
       "      <td>392.43</td>\n",
       "      <td>44671866</td>\n",
       "    </tr>\n",
       "  </tbody>\n",
       "</table>\n",
       "</div>"
      ],
      "text/plain": [
       "                              AGG                                        SPY  \\\n",
       "                             open    high       low   close   volume    open   \n",
       "time                                                                           \n",
       "2021-02-10 00:00:00-05:00  116.97  117.01  116.9200  117.00  3448438  392.12   \n",
       "2021-02-11 00:00:00-05:00  117.03  117.03  116.8000  116.87  3375374  391.24   \n",
       "2021-02-12 00:00:00-05:00  116.67  116.74  116.5418  116.58  3209765  389.85   \n",
       "2021-02-16 00:00:00-05:00  116.22  116.23  116.0200  116.03  5543350  393.96   \n",
       "2021-02-17 00:00:00-05:00  116.22  116.29  116.1450  116.28  6038386  390.42   \n",
       "\n",
       "                                                             \n",
       "                             high     low   close    volume  \n",
       "time                                                         \n",
       "2021-02-10 00:00:00-05:00  392.28  387.50  390.10  53797977  \n",
       "2021-02-11 00:00:00-05:00  391.69  388.10  390.73  38939025  \n",
       "2021-02-12 00:00:00-05:00  392.90  389.77  392.69  39697380  \n",
       "2021-02-16 00:00:00-05:00  394.17  391.53  392.34  43206214  \n",
       "2021-02-17 00:00:00-05:00  392.66  389.33  392.43  44671866  "
      ]
     },
     "execution_count": 29,
     "metadata": {},
     "output_type": "execute_result"
    }
   ],
   "source": [
    "# Use the Alpaca get_barset function to make the API call to get the 10 years worth of pricing data\n",
    "# The tickers and timeframe parameters should have been set in Part 1 of this activity \n",
    "# The start and end dates should be updated with the information set above\n",
    "# Remember to add the df property to the end of the call so the response is returned as a DataFrame\n",
    "df_closing_prices_10_yrs = alpaca.get_barset(\n",
    "    tickers,\n",
    "    timeframe,\n",
    "    start = start_date,\n",
    "    end = end_date   \n",
    ").df\n",
    "\n",
    "# Review the first 5 rows of the Alpaca DataFrame\n",
    "df_closing_prices_10_yrs.head()"
   ]
  },
  {
   "cell_type": "code",
   "execution_count": 30,
   "metadata": {},
   "outputs": [
    {
     "data": {
      "text/html": [
       "<div>\n",
       "<style scoped>\n",
       "    .dataframe tbody tr th:only-of-type {\n",
       "        vertical-align: middle;\n",
       "    }\n",
       "\n",
       "    .dataframe tbody tr th {\n",
       "        vertical-align: top;\n",
       "    }\n",
       "\n",
       "    .dataframe thead tr th {\n",
       "        text-align: left;\n",
       "    }\n",
       "\n",
       "    .dataframe thead tr:last-of-type th {\n",
       "        text-align: right;\n",
       "    }\n",
       "</style>\n",
       "<table border=\"1\" class=\"dataframe\">\n",
       "  <thead>\n",
       "    <tr>\n",
       "      <th></th>\n",
       "      <th colspan=\"5\" halign=\"left\">AGG</th>\n",
       "      <th colspan=\"5\" halign=\"left\">SPY</th>\n",
       "    </tr>\n",
       "    <tr>\n",
       "      <th></th>\n",
       "      <th>open</th>\n",
       "      <th>high</th>\n",
       "      <th>low</th>\n",
       "      <th>close</th>\n",
       "      <th>volume</th>\n",
       "      <th>open</th>\n",
       "      <th>high</th>\n",
       "      <th>low</th>\n",
       "      <th>close</th>\n",
       "      <th>volume</th>\n",
       "    </tr>\n",
       "    <tr>\n",
       "      <th>time</th>\n",
       "      <th></th>\n",
       "      <th></th>\n",
       "      <th></th>\n",
       "      <th></th>\n",
       "      <th></th>\n",
       "      <th></th>\n",
       "      <th></th>\n",
       "      <th></th>\n",
       "      <th></th>\n",
       "      <th></th>\n",
       "    </tr>\n",
       "  </thead>\n",
       "  <tbody>\n",
       "    <tr>\n",
       "      <th>2021-02-10 00:00:00-05:00</th>\n",
       "      <td>116.97</td>\n",
       "      <td>117.01</td>\n",
       "      <td>116.9200</td>\n",
       "      <td>117.00</td>\n",
       "      <td>3448438</td>\n",
       "      <td>392.12</td>\n",
       "      <td>392.28</td>\n",
       "      <td>387.50</td>\n",
       "      <td>390.10</td>\n",
       "      <td>53797977</td>\n",
       "    </tr>\n",
       "    <tr>\n",
       "      <th>2021-02-11 00:00:00-05:00</th>\n",
       "      <td>117.03</td>\n",
       "      <td>117.03</td>\n",
       "      <td>116.8000</td>\n",
       "      <td>116.87</td>\n",
       "      <td>3375374</td>\n",
       "      <td>391.24</td>\n",
       "      <td>391.69</td>\n",
       "      <td>388.10</td>\n",
       "      <td>390.73</td>\n",
       "      <td>38939025</td>\n",
       "    </tr>\n",
       "    <tr>\n",
       "      <th>2021-02-12 00:00:00-05:00</th>\n",
       "      <td>116.67</td>\n",
       "      <td>116.74</td>\n",
       "      <td>116.5418</td>\n",
       "      <td>116.58</td>\n",
       "      <td>3209765</td>\n",
       "      <td>389.85</td>\n",
       "      <td>392.90</td>\n",
       "      <td>389.77</td>\n",
       "      <td>392.69</td>\n",
       "      <td>39697380</td>\n",
       "    </tr>\n",
       "    <tr>\n",
       "      <th>2021-02-16 00:00:00-05:00</th>\n",
       "      <td>116.22</td>\n",
       "      <td>116.23</td>\n",
       "      <td>116.0200</td>\n",
       "      <td>116.03</td>\n",
       "      <td>5543350</td>\n",
       "      <td>393.96</td>\n",
       "      <td>394.17</td>\n",
       "      <td>391.53</td>\n",
       "      <td>392.34</td>\n",
       "      <td>43206214</td>\n",
       "    </tr>\n",
       "    <tr>\n",
       "      <th>2021-02-17 00:00:00-05:00</th>\n",
       "      <td>116.22</td>\n",
       "      <td>116.29</td>\n",
       "      <td>116.1450</td>\n",
       "      <td>116.28</td>\n",
       "      <td>6038386</td>\n",
       "      <td>390.42</td>\n",
       "      <td>392.66</td>\n",
       "      <td>389.33</td>\n",
       "      <td>392.43</td>\n",
       "      <td>44671866</td>\n",
       "    </tr>\n",
       "  </tbody>\n",
       "</table>\n",
       "</div>"
      ],
      "text/plain": [
       "                              AGG                                        SPY  \\\n",
       "                             open    high       low   close   volume    open   \n",
       "time                                                                           \n",
       "2021-02-10 00:00:00-05:00  116.97  117.01  116.9200  117.00  3448438  392.12   \n",
       "2021-02-11 00:00:00-05:00  117.03  117.03  116.8000  116.87  3375374  391.24   \n",
       "2021-02-12 00:00:00-05:00  116.67  116.74  116.5418  116.58  3209765  389.85   \n",
       "2021-02-16 00:00:00-05:00  116.22  116.23  116.0200  116.03  5543350  393.96   \n",
       "2021-02-17 00:00:00-05:00  116.22  116.29  116.1450  116.28  6038386  390.42   \n",
       "\n",
       "                                                             \n",
       "                             high     low   close    volume  \n",
       "time                                                         \n",
       "2021-02-10 00:00:00-05:00  392.28  387.50  390.10  53797977  \n",
       "2021-02-11 00:00:00-05:00  391.69  388.10  390.73  38939025  \n",
       "2021-02-12 00:00:00-05:00  392.90  389.77  392.69  39697380  \n",
       "2021-02-16 00:00:00-05:00  394.17  391.53  392.34  43206214  \n",
       "2021-02-17 00:00:00-05:00  392.66  389.33  392.43  44671866  "
      ]
     },
     "execution_count": 30,
     "metadata": {},
     "output_type": "execute_result"
    }
   ],
   "source": [
    "# Display the first five rows of the DataFrame\n",
    "df_closing_prices_10_yrs.head()"
   ]
  },
  {
   "cell_type": "code",
   "execution_count": 31,
   "metadata": {},
   "outputs": [
    {
     "data": {
      "text/html": [
       "<div>\n",
       "<style scoped>\n",
       "    .dataframe tbody tr th:only-of-type {\n",
       "        vertical-align: middle;\n",
       "    }\n",
       "\n",
       "    .dataframe tbody tr th {\n",
       "        vertical-align: top;\n",
       "    }\n",
       "\n",
       "    .dataframe thead tr th {\n",
       "        text-align: left;\n",
       "    }\n",
       "\n",
       "    .dataframe thead tr:last-of-type th {\n",
       "        text-align: right;\n",
       "    }\n",
       "</style>\n",
       "<table border=\"1\" class=\"dataframe\">\n",
       "  <thead>\n",
       "    <tr>\n",
       "      <th></th>\n",
       "      <th colspan=\"5\" halign=\"left\">AGG</th>\n",
       "      <th colspan=\"5\" halign=\"left\">SPY</th>\n",
       "    </tr>\n",
       "    <tr>\n",
       "      <th></th>\n",
       "      <th>open</th>\n",
       "      <th>high</th>\n",
       "      <th>low</th>\n",
       "      <th>close</th>\n",
       "      <th>volume</th>\n",
       "      <th>open</th>\n",
       "      <th>high</th>\n",
       "      <th>low</th>\n",
       "      <th>close</th>\n",
       "      <th>volume</th>\n",
       "    </tr>\n",
       "    <tr>\n",
       "      <th>time</th>\n",
       "      <th></th>\n",
       "      <th></th>\n",
       "      <th></th>\n",
       "      <th></th>\n",
       "      <th></th>\n",
       "      <th></th>\n",
       "      <th></th>\n",
       "      <th></th>\n",
       "      <th></th>\n",
       "      <th></th>\n",
       "    </tr>\n",
       "  </thead>\n",
       "  <tbody>\n",
       "    <tr>\n",
       "      <th>2021-06-28 00:00:00-04:00</th>\n",
       "      <td>115.04</td>\n",
       "      <td>115.23</td>\n",
       "      <td>115.040</td>\n",
       "      <td>115.160</td>\n",
       "      <td>5523690</td>\n",
       "      <td>427.17</td>\n",
       "      <td>427.65</td>\n",
       "      <td>425.8900</td>\n",
       "      <td>427.48</td>\n",
       "      <td>43937373</td>\n",
       "    </tr>\n",
       "    <tr>\n",
       "      <th>2021-06-29 00:00:00-04:00</th>\n",
       "      <td>115.06</td>\n",
       "      <td>115.25</td>\n",
       "      <td>115.045</td>\n",
       "      <td>115.250</td>\n",
       "      <td>3469405</td>\n",
       "      <td>427.89</td>\n",
       "      <td>428.56</td>\n",
       "      <td>427.1300</td>\n",
       "      <td>427.68</td>\n",
       "      <td>32097572</td>\n",
       "    </tr>\n",
       "    <tr>\n",
       "      <th>2021-06-30 00:00:00-04:00</th>\n",
       "      <td>115.36</td>\n",
       "      <td>115.45</td>\n",
       "      <td>115.300</td>\n",
       "      <td>115.350</td>\n",
       "      <td>5984381</td>\n",
       "      <td>427.20</td>\n",
       "      <td>428.78</td>\n",
       "      <td>427.1800</td>\n",
       "      <td>428.08</td>\n",
       "      <td>46776402</td>\n",
       "    </tr>\n",
       "    <tr>\n",
       "      <th>2021-07-01 00:00:00-04:00</th>\n",
       "      <td>115.15</td>\n",
       "      <td>115.19</td>\n",
       "      <td>115.010</td>\n",
       "      <td>115.115</td>\n",
       "      <td>4439326</td>\n",
       "      <td>428.83</td>\n",
       "      <td>430.60</td>\n",
       "      <td>428.8000</td>\n",
       "      <td>430.47</td>\n",
       "      <td>44147835</td>\n",
       "    </tr>\n",
       "    <tr>\n",
       "      <th>2021-07-02 00:00:00-04:00</th>\n",
       "      <td>115.23</td>\n",
       "      <td>115.37</td>\n",
       "      <td>115.170</td>\n",
       "      <td>115.370</td>\n",
       "      <td>4219494</td>\n",
       "      <td>431.67</td>\n",
       "      <td>434.10</td>\n",
       "      <td>430.5218</td>\n",
       "      <td>433.75</td>\n",
       "      <td>46557070</td>\n",
       "    </tr>\n",
       "  </tbody>\n",
       "</table>\n",
       "</div>"
      ],
      "text/plain": [
       "                              AGG                                        SPY  \\\n",
       "                             open    high      low    close   volume    open   \n",
       "time                                                                           \n",
       "2021-06-28 00:00:00-04:00  115.04  115.23  115.040  115.160  5523690  427.17   \n",
       "2021-06-29 00:00:00-04:00  115.06  115.25  115.045  115.250  3469405  427.89   \n",
       "2021-06-30 00:00:00-04:00  115.36  115.45  115.300  115.350  5984381  427.20   \n",
       "2021-07-01 00:00:00-04:00  115.15  115.19  115.010  115.115  4439326  428.83   \n",
       "2021-07-02 00:00:00-04:00  115.23  115.37  115.170  115.370  4219494  431.67   \n",
       "\n",
       "                                                               \n",
       "                             high       low   close    volume  \n",
       "time                                                           \n",
       "2021-06-28 00:00:00-04:00  427.65  425.8900  427.48  43937373  \n",
       "2021-06-29 00:00:00-04:00  428.56  427.1300  427.68  32097572  \n",
       "2021-06-30 00:00:00-04:00  428.78  427.1800  428.08  46776402  \n",
       "2021-07-01 00:00:00-04:00  430.60  428.8000  430.47  44147835  \n",
       "2021-07-02 00:00:00-04:00  434.10  430.5218  433.75  46557070  "
      ]
     },
     "execution_count": 31,
     "metadata": {},
     "output_type": "execute_result"
    }
   ],
   "source": [
    "# Display the last five rows of the DataFrame\n",
    "df_closing_prices_10_yrs.tail()"
   ]
  },
  {
   "cell_type": "markdown",
   "metadata": {},
   "source": [
    "#### Step 2: Run a Monte Carlo simulation of 500 samples and 30 years for the 60/40 portfolio, and then plot the results."
   ]
  },
  {
   "cell_type": "code",
   "execution_count": 32,
   "metadata": {},
   "outputs": [],
   "source": [
    "# Configure the Monte Carlo simulation to forecast 30 years cumulative returns\n",
    "# The weights should be split 40% to AGG and 60% to SPY.\n",
    "# Run 500 samples.\n",
    "\n",
    "# Review the simulation input data\n",
    "MC_thirtyyears = MCSimulation(\n",
    "    portfolio_data = df_closing_prices_10_yrs,\n",
    "    weights = [.40,.60],\n",
    "    num_simulation = 500,\n",
    "    num_trading_days = 252 * 30\n",
    ")"
   ]
  },
  {
   "cell_type": "code",
   "execution_count": 33,
   "metadata": {},
   "outputs": [
    {
     "name": "stdout",
     "output_type": "stream",
     "text": [
      "Running Monte Carlo simulation number 0.\n",
      "Running Monte Carlo simulation number 10.\n",
      "Running Monte Carlo simulation number 20.\n",
      "Running Monte Carlo simulation number 30.\n",
      "Running Monte Carlo simulation number 40.\n",
      "Running Monte Carlo simulation number 50.\n",
      "Running Monte Carlo simulation number 60.\n",
      "Running Monte Carlo simulation number 70.\n",
      "Running Monte Carlo simulation number 80.\n",
      "Running Monte Carlo simulation number 90.\n",
      "Running Monte Carlo simulation number 100.\n",
      "Running Monte Carlo simulation number 110.\n",
      "Running Monte Carlo simulation number 120.\n",
      "Running Monte Carlo simulation number 130.\n",
      "Running Monte Carlo simulation number 140.\n",
      "Running Monte Carlo simulation number 150.\n",
      "Running Monte Carlo simulation number 160.\n",
      "Running Monte Carlo simulation number 170.\n",
      "Running Monte Carlo simulation number 180.\n",
      "Running Monte Carlo simulation number 190.\n",
      "Running Monte Carlo simulation number 200.\n",
      "Running Monte Carlo simulation number 210.\n",
      "Running Monte Carlo simulation number 220.\n",
      "Running Monte Carlo simulation number 230.\n",
      "Running Monte Carlo simulation number 240.\n",
      "Running Monte Carlo simulation number 250.\n",
      "Running Monte Carlo simulation number 260.\n",
      "Running Monte Carlo simulation number 270.\n",
      "Running Monte Carlo simulation number 280.\n",
      "Running Monte Carlo simulation number 290.\n",
      "Running Monte Carlo simulation number 300.\n",
      "Running Monte Carlo simulation number 310.\n",
      "Running Monte Carlo simulation number 320.\n",
      "Running Monte Carlo simulation number 330.\n",
      "Running Monte Carlo simulation number 340.\n",
      "Running Monte Carlo simulation number 350.\n",
      "Running Monte Carlo simulation number 360.\n",
      "Running Monte Carlo simulation number 370.\n",
      "Running Monte Carlo simulation number 380.\n",
      "Running Monte Carlo simulation number 390.\n",
      "Running Monte Carlo simulation number 400.\n",
      "Running Monte Carlo simulation number 410.\n",
      "Running Monte Carlo simulation number 420.\n",
      "Running Monte Carlo simulation number 430.\n",
      "Running Monte Carlo simulation number 440.\n",
      "Running Monte Carlo simulation number 450.\n",
      "Running Monte Carlo simulation number 460.\n",
      "Running Monte Carlo simulation number 470.\n",
      "Running Monte Carlo simulation number 480.\n",
      "Running Monte Carlo simulation number 490.\n"
     ]
    },
    {
     "data": {
      "text/html": [
       "<div>\n",
       "<style scoped>\n",
       "    .dataframe tbody tr th:only-of-type {\n",
       "        vertical-align: middle;\n",
       "    }\n",
       "\n",
       "    .dataframe tbody tr th {\n",
       "        vertical-align: top;\n",
       "    }\n",
       "\n",
       "    .dataframe thead th {\n",
       "        text-align: right;\n",
       "    }\n",
       "</style>\n",
       "<table border=\"1\" class=\"dataframe\">\n",
       "  <thead>\n",
       "    <tr style=\"text-align: right;\">\n",
       "      <th></th>\n",
       "      <th>0</th>\n",
       "      <th>1</th>\n",
       "      <th>2</th>\n",
       "      <th>3</th>\n",
       "      <th>4</th>\n",
       "      <th>5</th>\n",
       "      <th>6</th>\n",
       "      <th>7</th>\n",
       "      <th>8</th>\n",
       "      <th>9</th>\n",
       "      <th>...</th>\n",
       "      <th>490</th>\n",
       "      <th>491</th>\n",
       "      <th>492</th>\n",
       "      <th>493</th>\n",
       "      <th>494</th>\n",
       "      <th>495</th>\n",
       "      <th>496</th>\n",
       "      <th>497</th>\n",
       "      <th>498</th>\n",
       "      <th>499</th>\n",
       "    </tr>\n",
       "  </thead>\n",
       "  <tbody>\n",
       "    <tr>\n",
       "      <th>0</th>\n",
       "      <td>1.000000</td>\n",
       "      <td>1.000000</td>\n",
       "      <td>1.000000</td>\n",
       "      <td>1.000000</td>\n",
       "      <td>1.000000</td>\n",
       "      <td>1.000000</td>\n",
       "      <td>1.000000</td>\n",
       "      <td>1.000000</td>\n",
       "      <td>1.000000</td>\n",
       "      <td>1.000000</td>\n",
       "      <td>...</td>\n",
       "      <td>1.000000</td>\n",
       "      <td>1.000000</td>\n",
       "      <td>1.000000</td>\n",
       "      <td>1.000000</td>\n",
       "      <td>1.000000</td>\n",
       "      <td>1.000000</td>\n",
       "      <td>1.000000</td>\n",
       "      <td>1.000000</td>\n",
       "      <td>1.000000</td>\n",
       "      <td>1.000000</td>\n",
       "    </tr>\n",
       "    <tr>\n",
       "      <th>1</th>\n",
       "      <td>0.998785</td>\n",
       "      <td>0.996728</td>\n",
       "      <td>1.007713</td>\n",
       "      <td>1.004017</td>\n",
       "      <td>1.008320</td>\n",
       "      <td>1.011570</td>\n",
       "      <td>0.999538</td>\n",
       "      <td>1.003799</td>\n",
       "      <td>1.003956</td>\n",
       "      <td>0.997069</td>\n",
       "      <td>...</td>\n",
       "      <td>0.995859</td>\n",
       "      <td>1.006666</td>\n",
       "      <td>0.999811</td>\n",
       "      <td>0.993910</td>\n",
       "      <td>0.997997</td>\n",
       "      <td>0.997434</td>\n",
       "      <td>0.995088</td>\n",
       "      <td>1.000868</td>\n",
       "      <td>1.005567</td>\n",
       "      <td>1.002764</td>\n",
       "    </tr>\n",
       "    <tr>\n",
       "      <th>2</th>\n",
       "      <td>0.990437</td>\n",
       "      <td>0.997485</td>\n",
       "      <td>1.006433</td>\n",
       "      <td>1.007878</td>\n",
       "      <td>1.011515</td>\n",
       "      <td>1.014973</td>\n",
       "      <td>1.002074</td>\n",
       "      <td>1.002262</td>\n",
       "      <td>1.000452</td>\n",
       "      <td>0.990598</td>\n",
       "      <td>...</td>\n",
       "      <td>0.997519</td>\n",
       "      <td>0.996363</td>\n",
       "      <td>1.001399</td>\n",
       "      <td>0.993741</td>\n",
       "      <td>0.987634</td>\n",
       "      <td>1.004623</td>\n",
       "      <td>0.992924</td>\n",
       "      <td>1.004100</td>\n",
       "      <td>1.013201</td>\n",
       "      <td>1.001098</td>\n",
       "    </tr>\n",
       "    <tr>\n",
       "      <th>3</th>\n",
       "      <td>0.989379</td>\n",
       "      <td>0.995132</td>\n",
       "      <td>1.000577</td>\n",
       "      <td>1.014985</td>\n",
       "      <td>1.017847</td>\n",
       "      <td>1.013842</td>\n",
       "      <td>1.008167</td>\n",
       "      <td>1.010675</td>\n",
       "      <td>0.998368</td>\n",
       "      <td>0.995335</td>\n",
       "      <td>...</td>\n",
       "      <td>0.994533</td>\n",
       "      <td>0.995735</td>\n",
       "      <td>0.999474</td>\n",
       "      <td>0.988726</td>\n",
       "      <td>0.979188</td>\n",
       "      <td>1.001590</td>\n",
       "      <td>0.994662</td>\n",
       "      <td>0.997683</td>\n",
       "      <td>1.014416</td>\n",
       "      <td>0.994420</td>\n",
       "    </tr>\n",
       "    <tr>\n",
       "      <th>4</th>\n",
       "      <td>0.984021</td>\n",
       "      <td>0.994093</td>\n",
       "      <td>1.001568</td>\n",
       "      <td>1.020141</td>\n",
       "      <td>1.012611</td>\n",
       "      <td>1.015935</td>\n",
       "      <td>1.012523</td>\n",
       "      <td>1.009273</td>\n",
       "      <td>0.995743</td>\n",
       "      <td>0.992629</td>\n",
       "      <td>...</td>\n",
       "      <td>0.991627</td>\n",
       "      <td>0.995054</td>\n",
       "      <td>1.001144</td>\n",
       "      <td>0.992370</td>\n",
       "      <td>0.977892</td>\n",
       "      <td>1.004207</td>\n",
       "      <td>1.002187</td>\n",
       "      <td>1.004570</td>\n",
       "      <td>1.017702</td>\n",
       "      <td>0.995299</td>\n",
       "    </tr>\n",
       "    <tr>\n",
       "      <th>...</th>\n",
       "      <td>...</td>\n",
       "      <td>...</td>\n",
       "      <td>...</td>\n",
       "      <td>...</td>\n",
       "      <td>...</td>\n",
       "      <td>...</td>\n",
       "      <td>...</td>\n",
       "      <td>...</td>\n",
       "      <td>...</td>\n",
       "      <td>...</td>\n",
       "      <td>...</td>\n",
       "      <td>...</td>\n",
       "      <td>...</td>\n",
       "      <td>...</td>\n",
       "      <td>...</td>\n",
       "      <td>...</td>\n",
       "      <td>...</td>\n",
       "      <td>...</td>\n",
       "      <td>...</td>\n",
       "      <td>...</td>\n",
       "      <td>...</td>\n",
       "    </tr>\n",
       "    <tr>\n",
       "      <th>7556</th>\n",
       "      <td>78.467764</td>\n",
       "      <td>79.941758</td>\n",
       "      <td>126.315610</td>\n",
       "      <td>68.935080</td>\n",
       "      <td>100.123913</td>\n",
       "      <td>107.479532</td>\n",
       "      <td>70.278990</td>\n",
       "      <td>69.576350</td>\n",
       "      <td>94.019051</td>\n",
       "      <td>118.480942</td>\n",
       "      <td>...</td>\n",
       "      <td>106.189475</td>\n",
       "      <td>65.904147</td>\n",
       "      <td>71.313784</td>\n",
       "      <td>84.986790</td>\n",
       "      <td>92.734659</td>\n",
       "      <td>79.107067</td>\n",
       "      <td>82.008750</td>\n",
       "      <td>47.792260</td>\n",
       "      <td>36.329761</td>\n",
       "      <td>96.001251</td>\n",
       "    </tr>\n",
       "    <tr>\n",
       "      <th>7557</th>\n",
       "      <td>77.886301</td>\n",
       "      <td>79.548914</td>\n",
       "      <td>125.529509</td>\n",
       "      <td>69.025064</td>\n",
       "      <td>99.966338</td>\n",
       "      <td>108.237986</td>\n",
       "      <td>70.449055</td>\n",
       "      <td>69.344220</td>\n",
       "      <td>94.567629</td>\n",
       "      <td>118.083386</td>\n",
       "      <td>...</td>\n",
       "      <td>106.084540</td>\n",
       "      <td>66.532811</td>\n",
       "      <td>71.648047</td>\n",
       "      <td>84.941842</td>\n",
       "      <td>92.992079</td>\n",
       "      <td>79.393125</td>\n",
       "      <td>82.257515</td>\n",
       "      <td>48.398642</td>\n",
       "      <td>36.222576</td>\n",
       "      <td>95.786942</td>\n",
       "    </tr>\n",
       "    <tr>\n",
       "      <th>7558</th>\n",
       "      <td>78.179982</td>\n",
       "      <td>79.617046</td>\n",
       "      <td>126.697534</td>\n",
       "      <td>69.142079</td>\n",
       "      <td>100.282205</td>\n",
       "      <td>107.975276</td>\n",
       "      <td>70.349197</td>\n",
       "      <td>69.690486</td>\n",
       "      <td>94.762775</td>\n",
       "      <td>118.639759</td>\n",
       "      <td>...</td>\n",
       "      <td>105.363388</td>\n",
       "      <td>66.577322</td>\n",
       "      <td>71.654439</td>\n",
       "      <td>84.884653</td>\n",
       "      <td>92.814432</td>\n",
       "      <td>79.170338</td>\n",
       "      <td>82.589383</td>\n",
       "      <td>48.344383</td>\n",
       "      <td>36.454863</td>\n",
       "      <td>97.154527</td>\n",
       "    </tr>\n",
       "    <tr>\n",
       "      <th>7559</th>\n",
       "      <td>77.620994</td>\n",
       "      <td>79.530324</td>\n",
       "      <td>126.187767</td>\n",
       "      <td>69.480696</td>\n",
       "      <td>100.552741</td>\n",
       "      <td>108.088082</td>\n",
       "      <td>70.033968</td>\n",
       "      <td>69.325905</td>\n",
       "      <td>94.658690</td>\n",
       "      <td>119.585519</td>\n",
       "      <td>...</td>\n",
       "      <td>105.526218</td>\n",
       "      <td>66.747094</td>\n",
       "      <td>71.797549</td>\n",
       "      <td>84.213626</td>\n",
       "      <td>92.975842</td>\n",
       "      <td>78.993846</td>\n",
       "      <td>83.237528</td>\n",
       "      <td>48.476072</td>\n",
       "      <td>36.367263</td>\n",
       "      <td>97.942640</td>\n",
       "    </tr>\n",
       "    <tr>\n",
       "      <th>7560</th>\n",
       "      <td>76.914934</td>\n",
       "      <td>79.096544</td>\n",
       "      <td>126.398199</td>\n",
       "      <td>69.729738</td>\n",
       "      <td>100.563603</td>\n",
       "      <td>108.205382</td>\n",
       "      <td>70.155196</td>\n",
       "      <td>70.228185</td>\n",
       "      <td>95.119790</td>\n",
       "      <td>119.355137</td>\n",
       "      <td>...</td>\n",
       "      <td>105.626796</td>\n",
       "      <td>66.436631</td>\n",
       "      <td>72.687676</td>\n",
       "      <td>83.638059</td>\n",
       "      <td>93.864335</td>\n",
       "      <td>78.781967</td>\n",
       "      <td>83.896528</td>\n",
       "      <td>48.161506</td>\n",
       "      <td>36.356498</td>\n",
       "      <td>97.658313</td>\n",
       "    </tr>\n",
       "  </tbody>\n",
       "</table>\n",
       "<p>7561 rows × 500 columns</p>\n",
       "</div>"
      ],
      "text/plain": [
       "            0          1           2          3           4           5    \\\n",
       "0      1.000000   1.000000    1.000000   1.000000    1.000000    1.000000   \n",
       "1      0.998785   0.996728    1.007713   1.004017    1.008320    1.011570   \n",
       "2      0.990437   0.997485    1.006433   1.007878    1.011515    1.014973   \n",
       "3      0.989379   0.995132    1.000577   1.014985    1.017847    1.013842   \n",
       "4      0.984021   0.994093    1.001568   1.020141    1.012611    1.015935   \n",
       "...         ...        ...         ...        ...         ...         ...   \n",
       "7556  78.467764  79.941758  126.315610  68.935080  100.123913  107.479532   \n",
       "7557  77.886301  79.548914  125.529509  69.025064   99.966338  108.237986   \n",
       "7558  78.179982  79.617046  126.697534  69.142079  100.282205  107.975276   \n",
       "7559  77.620994  79.530324  126.187767  69.480696  100.552741  108.088082   \n",
       "7560  76.914934  79.096544  126.398199  69.729738  100.563603  108.205382   \n",
       "\n",
       "            6          7          8           9    ...         490        491  \\\n",
       "0      1.000000   1.000000   1.000000    1.000000  ...    1.000000   1.000000   \n",
       "1      0.999538   1.003799   1.003956    0.997069  ...    0.995859   1.006666   \n",
       "2      1.002074   1.002262   1.000452    0.990598  ...    0.997519   0.996363   \n",
       "3      1.008167   1.010675   0.998368    0.995335  ...    0.994533   0.995735   \n",
       "4      1.012523   1.009273   0.995743    0.992629  ...    0.991627   0.995054   \n",
       "...         ...        ...        ...         ...  ...         ...        ...   \n",
       "7556  70.278990  69.576350  94.019051  118.480942  ...  106.189475  65.904147   \n",
       "7557  70.449055  69.344220  94.567629  118.083386  ...  106.084540  66.532811   \n",
       "7558  70.349197  69.690486  94.762775  118.639759  ...  105.363388  66.577322   \n",
       "7559  70.033968  69.325905  94.658690  119.585519  ...  105.526218  66.747094   \n",
       "7560  70.155196  70.228185  95.119790  119.355137  ...  105.626796  66.436631   \n",
       "\n",
       "            492        493        494        495        496        497  \\\n",
       "0      1.000000   1.000000   1.000000   1.000000   1.000000   1.000000   \n",
       "1      0.999811   0.993910   0.997997   0.997434   0.995088   1.000868   \n",
       "2      1.001399   0.993741   0.987634   1.004623   0.992924   1.004100   \n",
       "3      0.999474   0.988726   0.979188   1.001590   0.994662   0.997683   \n",
       "4      1.001144   0.992370   0.977892   1.004207   1.002187   1.004570   \n",
       "...         ...        ...        ...        ...        ...        ...   \n",
       "7556  71.313784  84.986790  92.734659  79.107067  82.008750  47.792260   \n",
       "7557  71.648047  84.941842  92.992079  79.393125  82.257515  48.398642   \n",
       "7558  71.654439  84.884653  92.814432  79.170338  82.589383  48.344383   \n",
       "7559  71.797549  84.213626  92.975842  78.993846  83.237528  48.476072   \n",
       "7560  72.687676  83.638059  93.864335  78.781967  83.896528  48.161506   \n",
       "\n",
       "            498        499  \n",
       "0      1.000000   1.000000  \n",
       "1      1.005567   1.002764  \n",
       "2      1.013201   1.001098  \n",
       "3      1.014416   0.994420  \n",
       "4      1.017702   0.995299  \n",
       "...         ...        ...  \n",
       "7556  36.329761  96.001251  \n",
       "7557  36.222576  95.786942  \n",
       "7558  36.454863  97.154527  \n",
       "7559  36.367263  97.942640  \n",
       "7560  36.356498  97.658313  \n",
       "\n",
       "[7561 rows x 500 columns]"
      ]
     },
     "execution_count": 33,
     "metadata": {},
     "output_type": "execute_result"
    }
   ],
   "source": [
    "# Run the Monte Carlo simulation to forecast 30 years cumulative returns\n",
    "MC_thirtyyears.calc_cumulative_return()\n"
   ]
  },
  {
   "cell_type": "code",
   "execution_count": 34,
   "metadata": {},
   "outputs": [
    {
     "data": {
      "image/png": "[encoded data removed]",
      "text/plain": [
       "<Figure size 432x288 with 1 Axes>"
      ]
     },
     "metadata": {
      "needs_background": "light"
     },
     "output_type": "display_data"
    }
   ],
   "source": [
    "# Visualize the 30-year Monte Carlo simulation by creating an\n",
    "# overlay line plot\n",
    "MC_sim_line_plot = MC_thirtyyears.plot_simulation()\n",
    "MC_sim_line_plot.get_figure().savefig('MC_thirtyyears_line_plot.png',bbox_inches='tight')\n"
   ]
  },
  {
   "cell_type": "markdown",
   "metadata": {},
   "source": [
    "#### Step 3: Plot the probability distribution of the Monte Carlo simulation."
   ]
  },
  {
   "cell_type": "code",
   "execution_count": 35,
   "metadata": {},
   "outputs": [
    {
     "data": {
      "image/png": "[encoded data removed]",
      "text/plain": [
       "<Figure size 432x288 with 1 Axes>"
      ]
     },
     "metadata": {
      "needs_background": "light"
     },
     "output_type": "display_data"
    }
   ],
   "source": [
    "# Visualize the probability distribution of the 30-year Monte Carlo simulation \n",
    "# by plotting a histogramx\n",
    "MC_sim_dist_plot = MC_thirtyyears.plot_distribution()\n",
    "MC_sim_dist_plot.get_figure().savefig('MC_thirtyyears_dist_plot.png',bbox_inches='tight')\n",
    "\n"
   ]
  },
  {
   "cell_type": "markdown",
   "metadata": {},
   "source": [
    "#### Step 4: Generate the summary statistics for the Monte Carlo simulation."
   ]
  },
  {
   "cell_type": "code",
   "execution_count": 36,
   "metadata": {},
   "outputs": [
    {
     "name": "stdout",
     "output_type": "stream",
     "text": [
      "count           500.000000\n",
      "mean             98.097803\n",
      "std              46.865981\n",
      "min              26.936796\n",
      "25%              67.951155\n",
      "50%              88.402780\n",
      "75%             117.808542\n",
      "max             450.054176\n",
      "95% CI Lower     37.511785\n",
      "95% CI Upper    216.006466\n",
      "Name: 7560, dtype: float64\n"
     ]
    }
   ],
   "source": [
    "# Generate summary statistics from the 30-year Monte Carlo simulation results\n",
    "# Save the results as a variable\n",
    "MC_Summary_statistics = MC_thirtyyears.summarize_cumulative_return()\n",
    "\n",
    "# Review the 30-year Monte Carlo summary statistics\n",
    "print(MC_Summary_statistics)"
   ]
  },
  {
   "cell_type": "markdown",
   "metadata": {},
   "source": [
    "### Analyze the Retirement Portfolio Forecasts\n",
    "\n",
    "Using the current value of only the stock and bond portion of the member's portfolio and the summary statistics that you generated from the Monte Carlo simulation, answer the following question in your Jupyter notebook:\n",
    "\n",
    "-  What are the lower and upper bounds for the expected value of the portfolio with a 95% confidence interval?\n",
    "Answer: Lower Bounds is 40.01 and Upper Bound is 200.52"
   ]
  },
  {
   "cell_type": "code",
   "execution_count": 37,
   "metadata": {},
   "outputs": [
    {
     "name": "stdout",
     "output_type": "stream",
     "text": [
      "60689.5\n"
     ]
    }
   ],
   "source": [
    "# Print the current balance of the stock and bond portion of the members portfolio\n",
    "print(total_stocks_bonds)\n"
   ]
  },
  {
   "cell_type": "code",
   "execution_count": 38,
   "metadata": {},
   "outputs": [
    {
     "name": "stdout",
     "output_type": "stream",
     "text": [
      "2276571.457338263\n",
      "13109324.41117435\n"
     ]
    }
   ],
   "source": [
    "# Use the lower and upper `95%` confidence intervals to calculate the range of the possible outcomes for the current stock/bond portfolio\n",
    "ci_lower_thirty_cumulative_return = ci_lower_thirty_cumulative_return = MC_Summary_statistics[8] * total_stocks_bonds\n",
    "ci_upper_thirty_cumulative_return = ci_upper_thirty_cumulative_return = MC_Summary_statistics[9] * total_stocks_bonds\n",
    "\n",
    "# Print the result of your calculations\n",
    "print(ci_lower_thirty_cumulative_return)\n",
    "print(ci_upper_thirty_cumulative_return)"
   ]
  },
  {
   "cell_type": "markdown",
   "metadata": {},
   "source": [
    "### Forecast Cumulative Returns in 10 Years\n",
    "\n",
    "The CTO of the credit union is impressed with your work on these planning tools but wonders if 30 years is a long time to wait until retirement. So, your next task is to adjust the retirement portfolio and run a new Monte Carlo simulation to find out if the changes will allow members to retire earlier.\n",
    "\n",
    "For this new Monte Carlo simulation, do the following: \n",
    "\n",
    "- Forecast the cumulative returns for 10 years from now. Because of the shortened investment horizon (30 years to 10 years), the portfolio needs to invest more heavily in the riskier asset&mdash;that is, stock&mdash;to help accumulate wealth for retirement. \n",
    "\n",
    "- Adjust the weights of the retirement portfolio so that the composition for the Monte Carlo simulation consists of 20% bonds and 80% stocks. \n",
    "\n",
    "- Run the simulation over 500 samples, and use the same data that the API call to Alpaca generated.\n",
    "\n",
    "- Based on the new Monte Carlo simulation, answer the following questions in your Jupyter notebook:\n",
    "\n",
    "    - Using the current value of only the stock and bond portion of the member's portfolio and the summary statistics that you generated from the new Monte Carlo simulation, what are the lower and upper bounds for the expected value of the portfolio (with the new weights) with a 95% confidence interval?\n",
    "\n",
    "    - Will weighting the portfolio more heavily toward stocks allow the credit union members to retire after only 10 years?\n"
   ]
  },
  {
   "cell_type": "code",
   "execution_count": 39,
   "metadata": {},
   "outputs": [
    {
     "name": "stdout",
     "output_type": "stream",
     "text": [
      "[0.2, 0.8]\n"
     ]
    }
   ],
   "source": [
    "# Configure a Monte Carlo simulation to forecast 10 years cumulative returns\n",
    "# The weights should be split 20% to AGG and 80% to SPY.\n",
    "# Run 500 samples.\n",
    "MC_tenyears = MCSimulation(\n",
    "    portfolio_data = df_closing_prices_10_yrs,\n",
    "    weights = [.20,.80],\n",
    "    num_simulation = 500,\n",
    "    num_trading_days = 252 * 10\n",
    ")\n",
    "\n",
    "# Review the simulation input data\n",
    "print(MC_tenyears.weights)"
   ]
  },
  {
   "cell_type": "code",
   "execution_count": 40,
   "metadata": {},
   "outputs": [
    {
     "name": "stdout",
     "output_type": "stream",
     "text": [
      "Running Monte Carlo simulation number 0.\n",
      "Running Monte Carlo simulation number 10.\n",
      "Running Monte Carlo simulation number 20.\n",
      "Running Monte Carlo simulation number 30.\n",
      "Running Monte Carlo simulation number 40.\n",
      "Running Monte Carlo simulation number 50.\n",
      "Running Monte Carlo simulation number 60.\n",
      "Running Monte Carlo simulation number 70.\n",
      "Running Monte Carlo simulation number 80.\n",
      "Running Monte Carlo simulation number 90.\n",
      "Running Monte Carlo simulation number 100.\n",
      "Running Monte Carlo simulation number 110.\n",
      "Running Monte Carlo simulation number 120.\n",
      "Running Monte Carlo simulation number 130.\n",
      "Running Monte Carlo simulation number 140.\n",
      "Running Monte Carlo simulation number 150.\n",
      "Running Monte Carlo simulation number 160.\n",
      "Running Monte Carlo simulation number 170.\n",
      "Running Monte Carlo simulation number 180.\n",
      "Running Monte Carlo simulation number 190.\n",
      "Running Monte Carlo simulation number 200.\n",
      "Running Monte Carlo simulation number 210.\n",
      "Running Monte Carlo simulation number 220.\n",
      "Running Monte Carlo simulation number 230.\n",
      "Running Monte Carlo simulation number 240.\n",
      "Running Monte Carlo simulation number 250.\n",
      "Running Monte Carlo simulation number 260.\n",
      "Running Monte Carlo simulation number 270.\n",
      "Running Monte Carlo simulation number 280.\n",
      "Running Monte Carlo simulation number 290.\n",
      "Running Monte Carlo simulation number 300.\n",
      "Running Monte Carlo simulation number 310.\n",
      "Running Monte Carlo simulation number 320.\n",
      "Running Monte Carlo simulation number 330.\n",
      "Running Monte Carlo simulation number 340.\n",
      "Running Monte Carlo simulation number 350.\n",
      "Running Monte Carlo simulation number 360.\n",
      "Running Monte Carlo simulation number 370.\n",
      "Running Monte Carlo simulation number 380.\n",
      "Running Monte Carlo simulation number 390.\n",
      "Running Monte Carlo simulation number 400.\n",
      "Running Monte Carlo simulation number 410.\n",
      "Running Monte Carlo simulation number 420.\n",
      "Running Monte Carlo simulation number 430.\n",
      "Running Monte Carlo simulation number 440.\n",
      "Running Monte Carlo simulation number 450.\n",
      "Running Monte Carlo simulation number 460.\n",
      "Running Monte Carlo simulation number 470.\n",
      "Running Monte Carlo simulation number 480.\n",
      "Running Monte Carlo simulation number 490.\n"
     ]
    },
    {
     "data": {
      "text/html": [
       "<div>\n",
       "<style scoped>\n",
       "    .dataframe tbody tr th:only-of-type {\n",
       "        vertical-align: middle;\n",
       "    }\n",
       "\n",
       "    .dataframe tbody tr th {\n",
       "        vertical-align: top;\n",
       "    }\n",
       "\n",
       "    .dataframe thead th {\n",
       "        text-align: right;\n",
       "    }\n",
       "</style>\n",
       "<table border=\"1\" class=\"dataframe\">\n",
       "  <thead>\n",
       "    <tr style=\"text-align: right;\">\n",
       "      <th></th>\n",
       "      <th>0</th>\n",
       "      <th>1</th>\n",
       "      <th>2</th>\n",
       "      <th>3</th>\n",
       "      <th>4</th>\n",
       "      <th>5</th>\n",
       "      <th>6</th>\n",
       "      <th>7</th>\n",
       "      <th>8</th>\n",
       "      <th>9</th>\n",
       "      <th>...</th>\n",
       "      <th>490</th>\n",
       "      <th>491</th>\n",
       "      <th>492</th>\n",
       "      <th>493</th>\n",
       "      <th>494</th>\n",
       "      <th>495</th>\n",
       "      <th>496</th>\n",
       "      <th>497</th>\n",
       "      <th>498</th>\n",
       "      <th>499</th>\n",
       "    </tr>\n",
       "  </thead>\n",
       "  <tbody>\n",
       "    <tr>\n",
       "      <th>0</th>\n",
       "      <td>1.000000</td>\n",
       "      <td>1.000000</td>\n",
       "      <td>1.000000</td>\n",
       "      <td>1.000000</td>\n",
       "      <td>1.000000</td>\n",
       "      <td>1.000000</td>\n",
       "      <td>1.000000</td>\n",
       "      <td>1.000000</td>\n",
       "      <td>1.000000</td>\n",
       "      <td>1.000000</td>\n",
       "      <td>...</td>\n",
       "      <td>1.000000</td>\n",
       "      <td>1.000000</td>\n",
       "      <td>1.000000</td>\n",
       "      <td>1.000000</td>\n",
       "      <td>1.000000</td>\n",
       "      <td>1.000000</td>\n",
       "      <td>1.000000</td>\n",
       "      <td>1.000000</td>\n",
       "      <td>1.000000</td>\n",
       "      <td>1.000000</td>\n",
       "    </tr>\n",
       "    <tr>\n",
       "      <th>1</th>\n",
       "      <td>0.992770</td>\n",
       "      <td>0.995278</td>\n",
       "      <td>0.999829</td>\n",
       "      <td>1.012222</td>\n",
       "      <td>0.994896</td>\n",
       "      <td>0.996307</td>\n",
       "      <td>1.009485</td>\n",
       "      <td>1.001431</td>\n",
       "      <td>1.001006</td>\n",
       "      <td>1.008565</td>\n",
       "      <td>...</td>\n",
       "      <td>0.993329</td>\n",
       "      <td>1.004803</td>\n",
       "      <td>1.001583</td>\n",
       "      <td>1.001653</td>\n",
       "      <td>1.005222</td>\n",
       "      <td>1.004325</td>\n",
       "      <td>1.006929</td>\n",
       "      <td>0.997941</td>\n",
       "      <td>0.996654</td>\n",
       "      <td>0.998752</td>\n",
       "    </tr>\n",
       "    <tr>\n",
       "      <th>2</th>\n",
       "      <td>0.993980</td>\n",
       "      <td>0.995831</td>\n",
       "      <td>1.004072</td>\n",
       "      <td>1.004778</td>\n",
       "      <td>0.995003</td>\n",
       "      <td>0.993244</td>\n",
       "      <td>1.009845</td>\n",
       "      <td>0.999085</td>\n",
       "      <td>1.000016</td>\n",
       "      <td>0.998004</td>\n",
       "      <td>...</td>\n",
       "      <td>0.986568</td>\n",
       "      <td>1.006707</td>\n",
       "      <td>1.002668</td>\n",
       "      <td>1.001922</td>\n",
       "      <td>0.999316</td>\n",
       "      <td>0.995196</td>\n",
       "      <td>1.009408</td>\n",
       "      <td>0.989058</td>\n",
       "      <td>1.007598</td>\n",
       "      <td>1.001672</td>\n",
       "    </tr>\n",
       "    <tr>\n",
       "      <th>3</th>\n",
       "      <td>0.991859</td>\n",
       "      <td>1.002190</td>\n",
       "      <td>1.006596</td>\n",
       "      <td>1.012087</td>\n",
       "      <td>0.995740</td>\n",
       "      <td>0.985946</td>\n",
       "      <td>1.008069</td>\n",
       "      <td>0.994631</td>\n",
       "      <td>1.000833</td>\n",
       "      <td>1.002601</td>\n",
       "      <td>...</td>\n",
       "      <td>0.994499</td>\n",
       "      <td>1.015481</td>\n",
       "      <td>1.002435</td>\n",
       "      <td>1.004720</td>\n",
       "      <td>1.003316</td>\n",
       "      <td>0.997755</td>\n",
       "      <td>1.000003</td>\n",
       "      <td>0.994881</td>\n",
       "      <td>1.007268</td>\n",
       "      <td>1.000745</td>\n",
       "    </tr>\n",
       "    <tr>\n",
       "      <th>4</th>\n",
       "      <td>1.003293</td>\n",
       "      <td>1.010338</td>\n",
       "      <td>1.007200</td>\n",
       "      <td>1.012787</td>\n",
       "      <td>0.993779</td>\n",
       "      <td>0.980587</td>\n",
       "      <td>1.009899</td>\n",
       "      <td>0.984918</td>\n",
       "      <td>0.995850</td>\n",
       "      <td>1.008133</td>\n",
       "      <td>...</td>\n",
       "      <td>1.006123</td>\n",
       "      <td>1.020914</td>\n",
       "      <td>1.012856</td>\n",
       "      <td>1.000963</td>\n",
       "      <td>1.010313</td>\n",
       "      <td>1.005190</td>\n",
       "      <td>1.008278</td>\n",
       "      <td>0.988931</td>\n",
       "      <td>1.011186</td>\n",
       "      <td>0.996931</td>\n",
       "    </tr>\n",
       "    <tr>\n",
       "      <th>...</th>\n",
       "      <td>...</td>\n",
       "      <td>...</td>\n",
       "      <td>...</td>\n",
       "      <td>...</td>\n",
       "      <td>...</td>\n",
       "      <td>...</td>\n",
       "      <td>...</td>\n",
       "      <td>...</td>\n",
       "      <td>...</td>\n",
       "      <td>...</td>\n",
       "      <td>...</td>\n",
       "      <td>...</td>\n",
       "      <td>...</td>\n",
       "      <td>...</td>\n",
       "      <td>...</td>\n",
       "      <td>...</td>\n",
       "      <td>...</td>\n",
       "      <td>...</td>\n",
       "      <td>...</td>\n",
       "      <td>...</td>\n",
       "      <td>...</td>\n",
       "    </tr>\n",
       "    <tr>\n",
       "      <th>2516</th>\n",
       "      <td>9.281709</td>\n",
       "      <td>6.888124</td>\n",
       "      <td>5.969892</td>\n",
       "      <td>10.986909</td>\n",
       "      <td>9.188770</td>\n",
       "      <td>6.355816</td>\n",
       "      <td>6.280363</td>\n",
       "      <td>6.382461</td>\n",
       "      <td>7.168802</td>\n",
       "      <td>8.209133</td>\n",
       "      <td>...</td>\n",
       "      <td>4.160964</td>\n",
       "      <td>10.719980</td>\n",
       "      <td>5.586757</td>\n",
       "      <td>5.418005</td>\n",
       "      <td>7.474923</td>\n",
       "      <td>9.809084</td>\n",
       "      <td>7.948856</td>\n",
       "      <td>5.080447</td>\n",
       "      <td>5.076796</td>\n",
       "      <td>5.106922</td>\n",
       "    </tr>\n",
       "    <tr>\n",
       "      <th>2517</th>\n",
       "      <td>9.326519</td>\n",
       "      <td>6.970714</td>\n",
       "      <td>5.982624</td>\n",
       "      <td>10.989309</td>\n",
       "      <td>9.151208</td>\n",
       "      <td>6.385042</td>\n",
       "      <td>6.263751</td>\n",
       "      <td>6.381223</td>\n",
       "      <td>7.100734</td>\n",
       "      <td>8.223836</td>\n",
       "      <td>...</td>\n",
       "      <td>4.216164</td>\n",
       "      <td>10.910780</td>\n",
       "      <td>5.528488</td>\n",
       "      <td>5.390189</td>\n",
       "      <td>7.425892</td>\n",
       "      <td>9.782611</td>\n",
       "      <td>7.947454</td>\n",
       "      <td>5.107893</td>\n",
       "      <td>5.038078</td>\n",
       "      <td>5.112165</td>\n",
       "    </tr>\n",
       "    <tr>\n",
       "      <th>2518</th>\n",
       "      <td>9.395517</td>\n",
       "      <td>6.961376</td>\n",
       "      <td>5.937389</td>\n",
       "      <td>10.906771</td>\n",
       "      <td>9.158993</td>\n",
       "      <td>6.392744</td>\n",
       "      <td>6.300676</td>\n",
       "      <td>6.403348</td>\n",
       "      <td>7.048800</td>\n",
       "      <td>8.170150</td>\n",
       "      <td>...</td>\n",
       "      <td>4.178588</td>\n",
       "      <td>10.931304</td>\n",
       "      <td>5.521151</td>\n",
       "      <td>5.427473</td>\n",
       "      <td>7.408502</td>\n",
       "      <td>9.822516</td>\n",
       "      <td>7.965078</td>\n",
       "      <td>5.084808</td>\n",
       "      <td>5.010413</td>\n",
       "      <td>5.119812</td>\n",
       "    </tr>\n",
       "    <tr>\n",
       "      <th>2519</th>\n",
       "      <td>9.454462</td>\n",
       "      <td>6.994714</td>\n",
       "      <td>5.969713</td>\n",
       "      <td>10.922276</td>\n",
       "      <td>9.172352</td>\n",
       "      <td>6.413156</td>\n",
       "      <td>6.223643</td>\n",
       "      <td>6.436074</td>\n",
       "      <td>7.038531</td>\n",
       "      <td>8.242288</td>\n",
       "      <td>...</td>\n",
       "      <td>4.194217</td>\n",
       "      <td>10.859348</td>\n",
       "      <td>5.499770</td>\n",
       "      <td>5.490418</td>\n",
       "      <td>7.450138</td>\n",
       "      <td>9.876055</td>\n",
       "      <td>7.878564</td>\n",
       "      <td>5.097418</td>\n",
       "      <td>5.002155</td>\n",
       "      <td>5.107954</td>\n",
       "    </tr>\n",
       "    <tr>\n",
       "      <th>2520</th>\n",
       "      <td>9.559947</td>\n",
       "      <td>7.002747</td>\n",
       "      <td>5.914706</td>\n",
       "      <td>10.897178</td>\n",
       "      <td>9.188485</td>\n",
       "      <td>6.451740</td>\n",
       "      <td>6.206998</td>\n",
       "      <td>6.482738</td>\n",
       "      <td>7.059747</td>\n",
       "      <td>8.237057</td>\n",
       "      <td>...</td>\n",
       "      <td>4.210371</td>\n",
       "      <td>10.786159</td>\n",
       "      <td>5.506524</td>\n",
       "      <td>5.503580</td>\n",
       "      <td>7.464291</td>\n",
       "      <td>9.900536</td>\n",
       "      <td>7.896199</td>\n",
       "      <td>5.140780</td>\n",
       "      <td>5.021767</td>\n",
       "      <td>5.148397</td>\n",
       "    </tr>\n",
       "  </tbody>\n",
       "</table>\n",
       "<p>2521 rows × 500 columns</p>\n",
       "</div>"
      ],
      "text/plain": [
       "           0         1         2          3         4         5         6    \\\n",
       "0     1.000000  1.000000  1.000000   1.000000  1.000000  1.000000  1.000000   \n",
       "1     0.992770  0.995278  0.999829   1.012222  0.994896  0.996307  1.009485   \n",
       "2     0.993980  0.995831  1.004072   1.004778  0.995003  0.993244  1.009845   \n",
       "3     0.991859  1.002190  1.006596   1.012087  0.995740  0.985946  1.008069   \n",
       "4     1.003293  1.010338  1.007200   1.012787  0.993779  0.980587  1.009899   \n",
       "...        ...       ...       ...        ...       ...       ...       ...   \n",
       "2516  9.281709  6.888124  5.969892  10.986909  9.188770  6.355816  6.280363   \n",
       "2517  9.326519  6.970714  5.982624  10.989309  9.151208  6.385042  6.263751   \n",
       "2518  9.395517  6.961376  5.937389  10.906771  9.158993  6.392744  6.300676   \n",
       "2519  9.454462  6.994714  5.969713  10.922276  9.172352  6.413156  6.223643   \n",
       "2520  9.559947  7.002747  5.914706  10.897178  9.188485  6.451740  6.206998   \n",
       "\n",
       "           7         8         9    ...       490        491       492  \\\n",
       "0     1.000000  1.000000  1.000000  ...  1.000000   1.000000  1.000000   \n",
       "1     1.001431  1.001006  1.008565  ...  0.993329   1.004803  1.001583   \n",
       "2     0.999085  1.000016  0.998004  ...  0.986568   1.006707  1.002668   \n",
       "3     0.994631  1.000833  1.002601  ...  0.994499   1.015481  1.002435   \n",
       "4     0.984918  0.995850  1.008133  ...  1.006123   1.020914  1.012856   \n",
       "...        ...       ...       ...  ...       ...        ...       ...   \n",
       "2516  6.382461  7.168802  8.209133  ...  4.160964  10.719980  5.586757   \n",
       "2517  6.381223  7.100734  8.223836  ...  4.216164  10.910780  5.528488   \n",
       "2518  6.403348  7.048800  8.170150  ...  4.178588  10.931304  5.521151   \n",
       "2519  6.436074  7.038531  8.242288  ...  4.194217  10.859348  5.499770   \n",
       "2520  6.482738  7.059747  8.237057  ...  4.210371  10.786159  5.506524   \n",
       "\n",
       "           493       494       495       496       497       498       499  \n",
       "0     1.000000  1.000000  1.000000  1.000000  1.000000  1.000000  1.000000  \n",
       "1     1.001653  1.005222  1.004325  1.006929  0.997941  0.996654  0.998752  \n",
       "2     1.001922  0.999316  0.995196  1.009408  0.989058  1.007598  1.001672  \n",
       "3     1.004720  1.003316  0.997755  1.000003  0.994881  1.007268  1.000745  \n",
       "4     1.000963  1.010313  1.005190  1.008278  0.988931  1.011186  0.996931  \n",
       "...        ...       ...       ...       ...       ...       ...       ...  \n",
       "2516  5.418005  7.474923  9.809084  7.948856  5.080447  5.076796  5.106922  \n",
       "2517  5.390189  7.425892  9.782611  7.947454  5.107893  5.038078  5.112165  \n",
       "2518  5.427473  7.408502  9.822516  7.965078  5.084808  5.010413  5.119812  \n",
       "2519  5.490418  7.450138  9.876055  7.878564  5.097418  5.002155  5.107954  \n",
       "2520  5.503580  7.464291  9.900536  7.896199  5.140780  5.021767  5.148397  \n",
       "\n",
       "[2521 rows x 500 columns]"
      ]
     },
     "execution_count": 40,
     "metadata": {},
     "output_type": "execute_result"
    }
   ],
   "source": [
    "# Run the Monte Carlo simulation to forecast 10 years cumulative returns\n",
    "MC_tenyears.calc_cumulative_return()"
   ]
  },
  {
   "cell_type": "code",
   "execution_count": 41,
   "metadata": {},
   "outputs": [
    {
     "data": {
      "image/png": "[encoded data removed]",
      "text/plain": [
       "<Figure size 432x288 with 1 Axes>"
      ]
     },
     "metadata": {
      "needs_background": "light"
     },
     "output_type": "display_data"
    }
   ],
   "source": [
    "# Visualize the 10-year Monte Carlo simulation by creating an\n",
    "# overlay line plot\n",
    "MC_sim_line_plot = MC_tenyears.plot_simulation()\n",
    "MC_sim_line_plot.get_figure().savefig('MC_tenyears_line_plot.png',bbox_inches='tight')\n"
   ]
  },
  {
   "cell_type": "code",
   "execution_count": 42,
   "metadata": {},
   "outputs": [
    {
     "data": {
      "image/png": "[encoded data removed]",
      "text/plain": [
       "<Figure size 432x288 with 1 Axes>"
      ]
     },
     "metadata": {
      "needs_background": "light"
     },
     "output_type": "display_data"
    }
   ],
   "source": [
    "# Visualize the probability distribution of the 10-year Monte Carlo simulation \n",
    "# by plotting a histogram\n",
    "MC_sim_dist_plot = MC_tenyears.plot_distribution()\n",
    "MC_sim_dist_plot.get_figure().savefig('MC_tenyears_dist_plot.png',bbox_inches='tight')\n"
   ]
  },
  {
   "cell_type": "code",
   "execution_count": 43,
   "metadata": {},
   "outputs": [
    {
     "name": "stdout",
     "output_type": "stream",
     "text": [
      "count           500.000000\n",
      "mean              8.390727\n",
      "std               2.716584\n",
      "min               3.304418\n",
      "25%               6.448270\n",
      "50%               8.041536\n",
      "75%               9.861324\n",
      "max              20.158320\n",
      "95% CI Lower      4.312258\n",
      "95% CI Upper     14.640006\n",
      "Name: 2520, dtype: float64\n"
     ]
    }
   ],
   "source": [
    "# Generate summary statistics from the 10-year Monte Carlo simulation results\n",
    "# Save the results as a variable\n",
    "MC_summary_statistics_ten_years = MC_tenyears.summarize_cumulative_return()\n",
    "\n",
    "\n",
    "# Review the 10-year Monte Carlo summary statistics\n",
    "print(MC_summary_statistics_ten_years)"
   ]
  },
  {
   "cell_type": "markdown",
   "metadata": {},
   "source": [
    "### Answer the following questions:"
   ]
  },
  {
   "cell_type": "markdown",
   "metadata": {},
   "source": [
    "#### Question: Using the current value of only the stock and bond portion of the member's portfolio and the summary statistics that you generated from the new Monte Carlo simulation, what are the lower and upper bounds for the expected value of the portfolio (with the new weights) with a 95% confidence interval?"
   ]
  },
  {
   "cell_type": "code",
   "execution_count": 44,
   "metadata": {},
   "outputs": [
    {
     "name": "stdout",
     "output_type": "stream",
     "text": [
      "60689.5\n"
     ]
    }
   ],
   "source": [
    "# Print the current balance of the stock and bond portion of the members portfolio\n",
    "print(total_stocks_bonds) "
   ]
  },
  {
   "cell_type": "code",
   "execution_count": 45,
   "metadata": {},
   "outputs": [
    {
     "name": "stdout",
     "output_type": "stream",
     "text": [
      "261708.78085886157\n",
      "888494.6687632485\n"
     ]
    }
   ],
   "source": [
    "# Use the lower and upper `95%` confidence intervals to calculate the range of the possible outcomes for the current stock/bond portfolio\n",
    "ci_lower_ten_cumulative_return = MC_summary_statistics_ten_years[8] * total_stocks_bonds\n",
    "ci_upper_ten_cumulative_return = MC_summary_statistics_ten_years[9] * total_stocks_bonds\n",
    "\n",
    "# Print the result of your calculations\n",
    "print(ci_lower_ten_cumulative_return)\n",
    "print(ci_upper_ten_cumulative_return)\n"
   ]
  },
  {
   "cell_type": "markdown",
   "metadata": {},
   "source": [
    "#### Question: Will weighting the portfolio more heavily to stocks allow the credit union members to retire after only 10 years?"
   ]
  },
  {
   "cell_type": "raw",
   "metadata": {},
   "source": [
    "**Answer** # \n",
    "No, the return is less comparare to 30 years returns."
   ]
  },
  {
   "cell_type": "code",
   "execution_count": null,
   "metadata": {},
   "outputs": [],
   "source": []
  }
 ],
 "metadata": {
  "kernelspec": {
   "display_name": "Pyhton (dev)",
   "language": "python",
   "name": "dev"
  },
  "language_info": {
   "codemirror_mode": {
    "name": "ipython",
    "version": 3
   },
   "file_extension": ".py",
   "mimetype": "text/x-python",
   "name": "python",
   "nbconvert_exporter": "python",
   "pygments_lexer": "ipython3",
   "version": "3.7.10"
  }
 },
 "nbformat": 4,
 "nbformat_minor": 4
}
